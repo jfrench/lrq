{
  "cells": [
    {
      "cell_type": "markdown",
      "metadata": {},
      "source": [
        "# Chapter 2 - Data Cleaning and Exploration\n",
        "\n",
        "Joshua French\n",
        "\n",
        "To open this information in an interactive Colab notebook, click the\n",
        "Open in Colab graphic below.\n",
        "\n",
        "<a href=\"https://colab.research.google.com/github/jfrench/LinearRegression/blob/master/notebooks/02-data-exploration-notebook.ipynb\">\n",
        "<img src=\"https://colab.research.google.com/assets/colab-badge.svg\">\n",
        "</a>\n",
        "\n",
        "# Introduction\n",
        "\n",
        "You should explore every data set numerically and visually prior to\n",
        "modeling it. The data exploration process will help you:\n",
        "\n",
        "-   Find errors in your data\n",
        "-   Locate missing values\n",
        "-   Identify outliers and unusual observations\n",
        "-   Find patterns in your data\n",
        "-   Decide on a modeling approach\n",
        "-   Etc.\n",
        "\n",
        "When we receive a data set for the first time, we often need to:\n",
        "\n",
        "-   Restructure the data set so that each row is an observation and each\n",
        "    column is a variable.\n",
        "-   Convert the variables to an appropriate type.\n",
        "-   Improve the name of the variables.\n",
        "-   Etc.\n",
        "\n",
        "The process of preparing the data into a friendly format is known as\n",
        "“cleaning”.\n",
        "\n",
        "# Raw Palmer penguins data\n",
        "\n",
        "We will systematically explore the `penguins_raw` data set from the\n",
        "**palmerpenguins** package. To use the data:\n",
        "\n",
        "-   Load the data into memory using the `data` function.ins\n",
        "-   Specify the `name` of the data set to be loaded.\n",
        "-   Specify the package that contains the data."
      ],
      "id": "188240b3-3299-4ae5-9bb2-e586ce0c2a0b"
    },
    {
      "cell_type": "code",
      "execution_count": null,
      "metadata": {},
      "outputs": [],
      "source": [
        "data(penguins, package = \"palmerpenguins\")"
      ],
      "id": "4d9f2544-d78e-4732-bdac-f24bffc6fffc"
    },
    {
      "cell_type": "markdown",
      "metadata": {},
      "source": [
        "This command actually loads two data sets:\n",
        "\n",
        "-   `penguins_raw`: the data set we will be looking at.\n",
        "-   `penguins`: a simplified version.\n",
        "\n",
        "The `penguins_raw` data set provides data related to various penguin\n",
        "species measured in the Palmer Archipelago (Antarctica).\n",
        "\n",
        "The data set includes 344 observations of 17 variables. The variables\n",
        "are:\n",
        "\n",
        "-   `studyName`: a `character` variable indicating the expedition from\n",
        "    which the data were collected.\n",
        "-   `Sample Number`: a `numeric` variable denoting the continuous number\n",
        "    sequence for each sample.\n",
        "-   `Species`: a `character` variable indicating the penguin species.\n",
        "-   `Region`: a `character` variable denoting the region of the Palmer\n",
        "    LTER sampling grid the sample was obtained.\n",
        "-   `Island`: a `character` variable indicating the island on which the\n",
        "    penguin was observed.\n",
        "-   `Stage`: a `character` variable indicating the reproductive stage of\n",
        "    the observation.\n",
        "-   `Individual ID`: a `character` variable indicating the unique\n",
        "    identification number for each individual in the data set.\n",
        "-   `Clutch Completion`: a `character` variable indicating whether the\n",
        "    study nest was observed with a “full clutch” of 2 eggs.\n",
        "-   `Date Egg`: a `Date` variable indicating the date that the study\n",
        "    nest was observed with 1 egg.\n",
        "-   `Culman Length (mm)`: a `numeric` variable indicating the length of\n",
        "    the dorsal ridge of the penguin’s bill in millimeters.\n",
        "-   `Culmen Depth (mm)`: a `numeric` variable indicating the indicating\n",
        "    the depth of the dorsal ridge of the penguin’s bill in millimeters.\n",
        "-   `Flipper Length (mm)`: a `numeric` variable indicating the penguin’s\n",
        "    flipper length in millimeters.\n",
        "-   `Body Mass (g)`: a `numeric` variable indicating the penguin’s body\n",
        "    mass in grams.\n",
        "-   `Sex`: a `character` variable indicating the penguin’s sex\n",
        "    (`FEMALE`, `MALE`)\n",
        "-   `Delta 15 N (o/oo)`: a `numeric` variable indicating the ratio of\n",
        "    stable isotopes 15N:14N.\n",
        "-   `Delta 13 C (o/oo)`: a `numeric` variable indicating the ratio of\n",
        "    stable isotopes 15C:12C.\n",
        "-   `Comments`: a `character` variable providing additional information\n",
        "    about the observation.\n",
        "\n",
        "# Initial data cleaning\n",
        "\n",
        "The `str` function provides a general overview of the data’s structure."
      ],
      "id": "e801e63c-9443-4cf2-b8d0-6f6969d235fa"
    },
    {
      "cell_type": "code",
      "execution_count": null,
      "metadata": {},
      "outputs": [],
      "source": [
        "str(penguins_raw, give.attr = FALSE)"
      ],
      "id": "f3451d87-beac-4bcb-9859-183092de8a7e"
    },
    {
      "cell_type": "markdown",
      "metadata": {},
      "source": [
        "An alternative to `str` is the `glimpse` function from the `dplyr`\n",
        "package."
      ],
      "id": "391f211f-4834-4330-bfff-40f817b9c1cc"
    },
    {
      "cell_type": "code",
      "execution_count": null,
      "metadata": {},
      "outputs": [],
      "source": [
        "dplyr::glimpse(penguins_raw)"
      ],
      "id": "f3b9e97d-8cdf-4975-a60c-93b9ea0f3c45"
    },
    {
      "cell_type": "markdown",
      "metadata": {},
      "source": [
        "The `penguins_raw` data has terrible variable names.\n",
        "\n",
        "-   The variable names have a mixture of lowercase and uppercase\n",
        "    letters, parentheses, and even spaces!\n",
        "-   This makes it complicated to access variables in the data frame."
      ],
      "id": "e611f02b-d627-4402-a879-d06235a10d2a"
    },
    {
      "cell_type": "code",
      "execution_count": null,
      "metadata": {},
      "outputs": [],
      "source": [
        "print(penguins_raw$`Flipper Length (mm)`, max = 10)"
      ],
      "id": "bc526224-c181-4bed-a2b8-ff9fcf9a2c73"
    },
    {
      "cell_type": "markdown",
      "metadata": {},
      "source": [
        "We will select only the variables that we will use in the future."
      ],
      "id": "e3e52d99-87de-4fbc-85cb-497ee26611f0"
    },
    {
      "cell_type": "code",
      "execution_count": null,
      "metadata": {},
      "outputs": [],
      "source": [
        "# select certain columns of penguins_raw, assign new name\n",
        "penguins_clean <-\n",
        "  penguins_raw |>\n",
        "  subset(select = c(\"Species\", \"Island\", \"Culmen Length (mm)\",\n",
        "                    \"Culmen Depth (mm)\", \"Flipper Length (mm)\", \"Body Mass (g)\", \"Sex\"))"
      ],
      "id": "b7e237da-7963-44b7-afc6-fc263c03b8e8"
    },
    {
      "cell_type": "markdown",
      "metadata": {},
      "source": [
        "To rename the columns of `penguins_clean`, we use the `names` function."
      ],
      "id": "e705c6a2-ea43-4642-91a8-f9dc2b0df2bb"
    },
    {
      "cell_type": "code",
      "execution_count": null,
      "metadata": {},
      "outputs": [],
      "source": [
        "# access column names and replace with new names\n",
        "names(penguins_clean) <- c(\"species\",\n",
        "                           \"island\",\n",
        "                           \"bill_length\",\n",
        "                           \"bill_depth\",\n",
        "                           \"flipper_length\",\n",
        "                           \"body_mass\",\n",
        "                           \"sex\")\n",
        "# look at new column names\n",
        "names(penguins_clean)"
      ],
      "id": "63812338-0d42-4374-a0b9-1ce9b7f49d50"
    },
    {
      "cell_type": "markdown",
      "metadata": {},
      "source": [
        "Notable remaining issues with `penguins_clean`:\n",
        "\n",
        "-   `species`, `island`, and `sex` variables are categorical, but are\n",
        "    represented as `character` vectors.\n",
        "-   These variables should each be converted to a `factor`.\n",
        "-   We use the `transform` function to convert the each variable to a\n",
        "    `factor`."
      ],
      "id": "5d46592f-4940-4b9c-9fce-1e5ff61af86e"
    },
    {
      "cell_type": "code",
      "execution_count": null,
      "metadata": {},
      "outputs": [],
      "source": [
        "# convert species, island, and sex variables\n",
        "# to factor, replace original object\n",
        "penguins_clean <-\n",
        "  penguins_clean |>\n",
        "  transform(species = factor(species),\n",
        "            island = factor(island),\n",
        "            sex = factor(sex))\n",
        "# view structure\n",
        "dplyr::glimpse(penguins_clean)"
      ],
      "id": "8e6d099e-b9d9-49f5-b2ec-a87992d839e3"
    },
    {
      "cell_type": "markdown",
      "metadata": {},
      "source": [
        "The levels of of `species`, `island`, and `sex` are not formatted well."
      ],
      "id": "7a7454a7-2ae2-48cf-9b52-886c9ee81b20"
    },
    {
      "cell_type": "code",
      "execution_count": null,
      "metadata": {},
      "outputs": [],
      "source": [
        "# determine levels of species and sex\n",
        "levels(penguins_clean$species)\n",
        "levels(penguins_clean$sex)"
      ],
      "id": "2390a89c-88b9-465f-bf39-a85c3c431dae"
    },
    {
      "cell_type": "markdown",
      "metadata": {},
      "source": [
        "We now change the levels of each variable in the same order they are\n",
        "printed above and confirm that the changes were successful."
      ],
      "id": "294eb7aa-917a-4a56-98f7-7babe020c448"
    },
    {
      "cell_type": "code",
      "execution_count": null,
      "metadata": {},
      "outputs": [],
      "source": [
        "# update factor levels of species and sex\n",
        "levels(penguins_clean$species) <- c(\"adelie\", \"chinstrap\", \"gentoo\")\n",
        "levels(penguins_clean$sex) <- c(\"female\", \"male\")\n",
        "# confirm that changes took effect\n",
        "dplyr::glimpse(penguins_clean)"
      ],
      "id": "cbb01e6e-3271-4b23-bed5-41e13621245f"
    },
    {
      "cell_type": "markdown",
      "metadata": {},
      "source": [
        "# Numerical summarization of data\n",
        "\n",
        "Numerical exploration of a data set generally consists of computing\n",
        "various relevant statistics for each of the variables in a data set in\n",
        "order to summarize the data.\n",
        "\n",
        "| numeric summary                 | variable type | summarizes        | R function            |\n",
        "|------------------------|----------------|----------------|-----------------|\n",
        "| mean                            | `numeric`     | center            | `mean`                |\n",
        "| median                          | `numeric`     | center            | `median`              |\n",
        "| variance                        | `numeric`     | spread            | `var`                 |\n",
        "| standard deviation              | `numeric`     | spread            | `sd`                  |\n",
        "| interquartile range             | `numeric`     | spread            | `quantile` (modified) |\n",
        "| quantiles                       | `numeric`     | center and spread | `quantile`            |\n",
        "| correlation                     | `numeric`     | similarity        | `cor`                 |\n",
        "| frequency distribution          | `factor`      | counts            | `table`               |\n",
        "| relative frequency distribution | `factor`      | proportions       | `table` (modified)    |\n",
        "\n",
        "## Numeric data\n",
        "\n",
        "Numerical exploration of a set of `numeric` values usually focuses on\n",
        "determining the:\n",
        "\n",
        "1.  center\n",
        "2.  spread\n",
        "3.  quantiles (less common).\n",
        "\n",
        "It can also be useful to compute the correlation between two `numeric`\n",
        "variables.\n",
        "\n",
        "### Measures of center\n",
        "\n",
        "The sample mean and median are the most common statistics used to\n",
        "represent the “center” of a set of numeric values.\n",
        "\n",
        "The sample mean or average is:\n",
        "\n",
        "-   Obtained by adding all values in the sample and dividing by the\n",
        "    number of observations.\n",
        "-   Computed in R using `mean`.\n",
        "-   Easily affected by outliers.\n",
        "\n",
        "The sample median is:\n",
        "\n",
        "-   The middle value of an ordered set of values (the actual middle\n",
        "    value for when the number of values is odd and the average of the\n",
        "    two middle values if there are an even number of values).\n",
        "-   Identical to the 0.5 quantile of the data.\n",
        "-   More “resistant” than the mean because it is not so greatly affected\n",
        "    by outliers.\n",
        "-   Computed in R using `median`.\n",
        "\n",
        "We compute the mean of the `body_mass` variable of the `penguins_clean`\n",
        "data in the code below."
      ],
      "id": "aeac772a-c876-4d34-9297-2d61ba1f1ee9"
    },
    {
      "cell_type": "code",
      "execution_count": null,
      "metadata": {},
      "outputs": [],
      "source": [
        "mean(penguins_clean$body_mass)"
      ],
      "id": "2a2f0e8b-bcc7-4eb6-8f0e-1b0927af085d"
    },
    {
      "cell_type": "markdown",
      "metadata": {},
      "source": [
        "Why is the result `NA` instead of a number?"
      ],
      "id": "41057117-78f3-4159-b482-273dd021b2de"
    },
    {
      "cell_type": "code",
      "execution_count": null,
      "metadata": {},
      "outputs": [],
      "source": [
        "# compute sample mean and median body_mass, ignoring NAs\n",
        "mean(penguins_clean$body_mass, na.rm = TRUE)\n",
        "median(penguins_clean$body_mass, na.rm = TRUE)"
      ],
      "id": "9a652246-ceca-45e7-bb73-6600d9082266"
    },
    {
      "cell_type": "markdown",
      "metadata": {},
      "source": [
        "**Question:** The median is less than the mean (i.e., large values are\n",
        "pulling the mean in the positive direction), what *might* this tell us\n",
        "about the distribution?\n",
        "\n",
        "### Quantiles\n",
        "\n",
        "The *p*th quantile (where $0\\leq p \\leq 1$) of a set of values is the\n",
        "value that separates the smallest $100 p$% of the values from the upper\n",
        "$100(1-p)$% of the values.\n",
        "\n",
        "-   The 0.25 sample quantile (often called Q1) of a set of values is the\n",
        "    value that separates the smallest 25% of the values from the largest\n",
        "    75% of the values.\n",
        "\n",
        "The `quantile` function is used to compute sample quantiles.\n",
        "\n",
        "Quantiles are useful quantifying:\n",
        "\n",
        "-   Center (median).\n",
        "-   Spread (minimum and maximum or interquartile range = Q3 - Q1)."
      ],
      "id": "fd64f39a-c1e2-4a2b-9ec8-540b06b66429"
    },
    {
      "cell_type": "code",
      "execution_count": null,
      "metadata": {},
      "outputs": [],
      "source": [
        "quantile(penguins_clean$body_mass,\n",
        "         probs = c(0, 0.25, 0.5, 0.75, 1),\n",
        "         na.rm = TRUE)"
      ],
      "id": "ef07c20d-b719-4f25-9fd7-375c03f103df"
    },
    {
      "cell_type": "markdown",
      "metadata": {},
      "source": [
        "**Question:** Q3 and the maximum are further from the median than Q1 and\n",
        "the minimum. Is this evidence that this variable may be positively\n",
        "skewed?\n",
        "\n",
        "### Measures of spread\n",
        "\n",
        "Spread is related to how far values are from each other.\n",
        "\n",
        "The sample variance of a set of values is:\n",
        "\n",
        "-   The (approximate) average of the squared deviation of each\n",
        "    observation from the sample mean.\n",
        "-   $s^2 = \\frac{1}{n-1}\\sum_{i=1}^n (x_i - \\bar{x})^2$.\n",
        "-   Computed using the `var` function.\n",
        "\n",
        "The sample standard deviation is:\n",
        "\n",
        "-   The square root of the sample variance.\n",
        "-   A more useful measure of spread because it is has the same units as\n",
        "    the original data.\n",
        "-   Computed using the `sd` function.\n",
        "\n",
        "The larger the standard deviation or variance of a set of values, the\n",
        "more they vary from their sample mean.\n",
        "\n",
        "The sample standard deviation and variance can be greatly affected by\n",
        "outliers.\n",
        "\n",
        "The interquartile range is the difference between the 0.75 and 0.25\n",
        "quantiles of a data set.\n",
        "\n",
        "-   It is more resistant to outliers than the sample variance or\n",
        "    standard deviation.\n",
        "\n",
        "The minimum and maximum (in relation to the sample mean or median) can\n",
        "also be used to ascertain the spread of a data set.\n",
        "\n",
        "-   Computed using the `min` and `max` functions.\n",
        "\n",
        "We compute these measures of spread for the `body_mass` variable below."
      ],
      "id": "168ad209-221a-4e5c-a668-6970f81b3971"
    },
    {
      "cell_type": "code",
      "execution_count": null,
      "metadata": {},
      "outputs": [],
      "source": [
        "# sample variance\n",
        "var(penguins_clean$body_mass, na.rm = TRUE)\n",
        "# sample standard deviation\n",
        "sd(penguins_clean$body_mass, na.rm = TRUE)\n",
        "# interquartile range (names = FALSE removes text above the results)\n",
        "quantile(penguins_clean$body_mass, probs = 0.75,\n",
        "         na.rm = TRUE, names = FALSE) -\n",
        "  quantile(penguins_clean$body_mass, probs = 0.25,\n",
        "           na.rm = TRUE, names = FALSE)\n",
        "# minimum\n",
        "min(penguins_clean$body_mass, na.rm = TRUE)\n",
        "# maximum\n",
        "max(penguins_clean$body_mass, na.rm = TRUE)"
      ],
      "id": "a4165e50-61c8-41fc-a257-e4a2388107b8"
    },
    {
      "cell_type": "markdown",
      "metadata": {},
      "source": [
        "### Correlation\n",
        "\n",
        "The correlation between two `numeric` variables quantifies the strength\n",
        "and direction of their linear relationship.\n",
        "\n",
        "The most common correlation statistic is Pearson’s correlation\n",
        "statistic. If $x_1, x_2, x_n$ and $y_1, y_2, \\ldots, y_n$ are two sets\n",
        "of `numeric` values, then the sample correlation statistic is computed\n",
        "as\n",
        "\n",
        "$$r = \\frac{1}{n-1}\\sum_{i=1}^n\\left(\\frac{x_i - \\bar{x}}{s_x}\\right)\\left(\\frac{y_i - \\bar{y}}{s_y}\\right),$$\n",
        "\n",
        "where:\n",
        "\n",
        "-   $\\bar{x}$ and $s_x$ denote the sample mean and standard deviation of\n",
        "    the $x$’s.\n",
        "-   $\\bar{y}$ and $s_y$ denoting the same thing for the $y$’s.\n",
        "-   $r$ must be between -1 and 1.\n",
        "-   The `cor` function can be used to compute the sample correlation\n",
        "    between two `numeric` variables.\n",
        "\n",
        "**Interpretation**\n",
        "\n",
        "-   The closer $r$ is to -1 or 1, the closer the data values fall to a\n",
        "    straight line.\n",
        "-   $r$ values close to 0 indicate that there is no linear relationship\n",
        "    between the two variables.\n",
        "-   Negative $r$ values indicate a negative relationship between the two\n",
        "    variables (as values for one variable increase, the values for the\n",
        "    other variable tend to decrease).\n",
        "-   Positive $r$ values indicate a positive linear relationship between\n",
        "    the two variables (as values for one variable increase, the values\n",
        "    of the other variable also tend to increase).\n",
        "\n",
        "In the code below, we compute the sample correlation between all\n",
        "`numeric` variables in `penguins_clean`. We set\n",
        "`use = \"pairwise.complete.obs\"` so that all non-`NA` pairs of values are\n",
        "used in the calculation."
      ],
      "id": "10144a98-e6cf-4c76-8016-58269b04b9fc"
    },
    {
      "cell_type": "code",
      "execution_count": null,
      "metadata": {},
      "outputs": [],
      "source": [
        "# determine whether each variable is numeric\n",
        "num_col <- unlist(lapply(penguins_clean, is.numeric))\n",
        "# observe results\n",
        "num_col\n",
        "# compute correlation of numeric variables\n",
        "cor(penguins_clean[, num_col],\n",
        "    use = \"pairwise.complete.obs\")"
      ],
      "id": "b0f69bfe-fbb9-4555-98f6-08669891f0eb"
    },
    {
      "cell_type": "markdown",
      "metadata": {},
      "source": [
        "-   The values of each variable are perfectly correlated with\n",
        "    themselves.\n",
        "-   The correlation between `bill_length` and `body_mass` is 0.87, so\n",
        "    the larger a penguin is, the larger its bill tends to be.\n",
        "-   Perhaps surprisingly, the correlation between `bill_length` and\n",
        "    `bill_depth` is -0.24, so the longer a bill becomes, the shallower\n",
        "    (narrower) we expect the depth to be.\n",
        "-   The correlation between `bill_depth` and `body_mass` is -0.47, so\n",
        "    larger penguins tend to have narrower bills.\n",
        "\n",
        "## Categorical data\n",
        "\n",
        "A frequency distribution or relative frequency distribution are useful\n",
        "numeric summaries of categorical data.\n",
        "\n",
        "The `table` function returns a contingency table summarizing the number\n",
        "of observations having each level. Note that by default, the table\n",
        "ignores `NA` values."
      ],
      "id": "031f36d6-ea4b-4cab-b471-502bdac60970"
    },
    {
      "cell_type": "code",
      "execution_count": null,
      "metadata": {},
      "outputs": [],
      "source": [
        "table(penguins_clean$sex)"
      ],
      "id": "6e1849ae-335d-42f2-8467-eb0e6393a12d"
    },
    {
      "cell_type": "markdown",
      "metadata": {},
      "source": [
        "To count the `NA` values (if present), we can set the `useNA` argument\n",
        "of `table` to `\"ifany\"`."
      ],
      "id": "8d4414d8-4ece-4ddb-9f7a-fe0fb0931f92"
    },
    {
      "cell_type": "code",
      "execution_count": null,
      "metadata": {},
      "outputs": [],
      "source": [
        "table(penguins_clean$sex, useNA = \"ifany\")"
      ],
      "id": "58f35fc2-e336-490a-8422-5872a0269149"
    },
    {
      "cell_type": "markdown",
      "metadata": {},
      "source": [
        "A relative frequency distribution summarizes the proportion or\n",
        "percentage of observation with each level of a categorical variable. To\n",
        "compute the relative frequency distribution of a variable, we must\n",
        "divide the frequency distribution by the number of observations."
      ],
      "id": "d7561440-5240-4fb5-a611-6fd6c3b5bb73"
    },
    {
      "cell_type": "code",
      "execution_count": null,
      "metadata": {},
      "outputs": [],
      "source": [
        "# divide the frequence distribution of sex by the number of non-NA values\n",
        "table(penguins_clean$sex)/sum(!is.na(penguins_clean$sex))"
      ],
      "id": "2fa62168-e026-432a-94c9-a512740472d1"
    },
    {
      "cell_type": "markdown",
      "metadata": {},
      "source": [
        "If we want to include the `NA` values in our table, we can use the code\n",
        "below."
      ],
      "id": "79adcb65-d3c3-418b-917e-0b8efb67360e"
    },
    {
      "cell_type": "code",
      "execution_count": null,
      "metadata": {},
      "outputs": [],
      "source": [
        "table(penguins_clean$sex, useNA = \"ifany\")/length(penguins_clean$sex)"
      ],
      "id": "93877c4d-42d4-4bea-a10e-c5d811cab7e3"
    },
    {
      "cell_type": "markdown",
      "metadata": {},
      "source": [
        "We do not know the `sex` of approximately 3% of the penguins\n",
        "observations.\n",
        "\n",
        "## The `summary` function\n",
        "\n",
        "The `summary` function provides a simple approach for quickly\n",
        "quantifying the center and spread of each `numeric` variable in a data\n",
        "frame or determining the frequency distribution of a `factor` variable."
      ],
      "id": "5cbe1d95-8ef6-4407-a8f1-dddc3d97c1ad"
    },
    {
      "cell_type": "code",
      "execution_count": null,
      "metadata": {},
      "outputs": [],
      "source": [
        "summary(penguins_clean)"
      ],
      "id": "76723342-c807-4fb3-bc14-52afeaa99fc8"
    },
    {
      "cell_type": "markdown",
      "metadata": {},
      "source": [
        "# Visual summaries of data\n",
        "\n",
        "Visual summaries (i.e., plots) of data help us:\n",
        "\n",
        "-   Spot errors in our data, unusual observations, and simple patterns.\n",
        "-   Communicate the results of your analysis.\n",
        "\n",
        "The two most popular packages for producing graphics in R are:\n",
        "\n",
        "-   **base**: the default graphics system\n",
        "-   **ggplot2**: a “grammar of graphics” that is able to produce complex\n",
        "    graphics with automated legends in a consistent, systematic way.\n",
        "\n",
        "| Visual summary       | Variable types          | Summary type | Base functions               | geoms                        |\n",
        "|:--------------|:--------------|:--------------|:--------------|:--------------|\n",
        "| box plot             | `numeric`               | univariate   | `boxplot`                    | `geom_boxplot`               |\n",
        "| histogram            | `numeric`               | univariate   | `hist`                       | `geom_histogram`             |\n",
        "| density plot         | `numeric`               | univariate   | `plot`, `density`            | `geom_density`               |\n",
        "| bar plot             | `factor`                | univariate   | `plot` or `barplot`, `table` | `geom_bar`                   |\n",
        "| scatter plot         | 2 `numeric`             | bivariate    | `plot`                       | `geom_point`                 |\n",
        "| parallel box plot    | 1 `numeric`, 1 `factor` | bivariate    | `plot` or `boxplot`          | `geom_boxplot`               |\n",
        "| grouped scatter plot | 2 `numeric`, 1 `factor` | multivariate | `plot`                       | `geom_point`                 |\n",
        "| facetted plots       | mixed                   | multivariate | none                         | `facet_wrap` or `facet_grid` |\n",
        "| interactive plots    | mixed                   | multivariate | none                         | `plotly::ggplotly`           |\n",
        "\n",
        "## The ggplot recipe\n",
        "\n",
        "There are 4 main components needed to produce a graphic using\n",
        "**ggplot2**.\n",
        "\n",
        "1.  A data frame containing your data.\n",
        "    -   Each column should be a variable and each row should be an\n",
        "        observation of data.\n",
        "2.  A `ggplot` object.\n",
        "    -   This is initialized using the `ggplot` function.\n",
        "3.  A geometric object.\n",
        "    -   These are called “geoms” for short.\n",
        "    -   geoms indicate the geometric object used to visualize the data.\n",
        "        E.g., points, lines, polygons etc. More generally, geoms\n",
        "        indicate the type of plot that is desired, e.g., histogram,\n",
        "        density, or box plot, which aren’t exactly a simple geometric\n",
        "        argument.\n",
        "4.  An aesthetic.\n",
        "    -   An aesthetic mapping indicates what role a variable plays in the\n",
        "        plot.\n",
        "    -   e.g., which variable will play the “x” variable in the plot, the\n",
        "        “y” variable in the plot, control the “color” of the\n",
        "        observations, etc.\n",
        "\n",
        "We add “layers” of information to a `ggplot`, such as geoms, scales, or\n",
        "other customizations, using `+`.\n",
        "\n",
        "## Univariate plots\n",
        "\n",
        "A univariate plot is a plot that only involves a single variable.\n",
        "\n",
        "-   e.g., bar plots, box plots, histograms, density plots, dot plots\n",
        "    (bad), pie charts (bad), etc.\n",
        "\n",
        "### Bar plots\n",
        "\n",
        "A bar plot (or bar chart) displays the number or proportion of\n",
        "observations in each category of a categorical variable (or using R\n",
        "terminology, each `level` of a `factor` variable).\n",
        "\n",
        "The simplest way to create a bar plot in base R is using the `plot`\n",
        "function on a `factor`."
      ],
      "id": "932aa293-b0b2-461a-b90a-e16a2681108a"
    },
    {
      "cell_type": "code",
      "execution_count": null,
      "metadata": {},
      "outputs": [],
      "source": [
        "plot(penguins_clean$island, main = \"distribution of island\")"
      ],
      "id": "700c8ca4-a296-486b-8ba8-6e4a2e8b409e"
    },
    {
      "cell_type": "markdown",
      "metadata": {},
      "source": [
        "Alternatively, we can combine `barplot` with the `table` function."
      ],
      "id": "0f24f521-95c0-4973-b05d-78c080708bbf"
    },
    {
      "cell_type": "code",
      "execution_count": null,
      "metadata": {},
      "outputs": [],
      "source": [
        "barplot(table(penguins_clean$sex, useNA = \"ifany\"),\n",
        "        names.arg = c(\"female\", \"male\", \"NA\"))"
      ],
      "id": "788879c0-70ac-4a8f-80b3-b77de9a9c8f9"
    },
    {
      "cell_type": "markdown",
      "metadata": {},
      "source": [
        "To create a relatively frequency bar plot, we should divide the results\n",
        "of `table` by the number of relevant observations."
      ],
      "id": "fc023f9c-c590-4ea2-9bcd-0c175e0c22f6"
    },
    {
      "cell_type": "code",
      "execution_count": null,
      "metadata": {},
      "outputs": [],
      "source": [
        "barplot(table(penguins_clean$sex, useNA = \"ifany\") /\n",
        "          length(penguins_clean$sex),\n",
        "        names.arg = c(\"female\", \"male\", \"NA\"))"
      ],
      "id": "23fa4835-7e0d-4e0a-8728-fcd1cee7a2c6"
    },
    {
      "cell_type": "markdown",
      "metadata": {},
      "source": [
        "To create a bar plot with **ggplot2**, we first create a basic `ggplot`\n",
        "object containing our data. Make sure to load the **ggplot2** package\n",
        "prior to creating the plot, otherwise you’ll get errors!"
      ],
      "id": "8aeb96cc-0149-4029-a423-5168ec489f8b"
    },
    {
      "cell_type": "code",
      "execution_count": null,
      "metadata": {},
      "outputs": [],
      "source": [
        "# load ggplot2 package\n",
        "library(ggplot2)\n",
        "# create generic ggplot object with our data\n",
        "gg_penguin <- ggplot(data = penguins_clean)"
      ],
      "id": "2ba6cd24-8e0c-4a83-8d73-c61ddee29c37"
    },
    {
      "cell_type": "markdown",
      "metadata": {},
      "source": [
        "`gg_penguin` is a minimal `ggplot` object with the raw information\n",
        "needed to produce future graphics.\n",
        "\n",
        "To create a bar plot, we add the geom `geom_bar` and map the `species`\n",
        "variable (in this example) to the `x` aesthetic using the `aes`\n",
        "function."
      ],
      "id": "15499e50-a256-479b-98af-c5b5c945aa3c"
    },
    {
      "cell_type": "code",
      "execution_count": null,
      "metadata": {},
      "outputs": [],
      "source": [
        "# create bar plot for species variable\n",
        "gg_penguin + geom_bar(aes(x = species))"
      ],
      "id": "e8bea47c-cdbf-41ad-8697-0ad13c7b80e6"
    },
    {
      "cell_type": "markdown",
      "metadata": {},
      "source": [
        "### Box plots\n",
        "\n",
        "A box plot indicates:\n",
        "\n",
        "-   median\n",
        "-   0.25 quantile (Q1)\n",
        "-   0.75 quantile (Q3)\n",
        "-   extend bars to the largest and smallest observations that are not\n",
        "    outliers.\n",
        "\n",
        "Outliers are usually marked with starts or dots.\n",
        "\n",
        "-   The standard definition of an outlier in the context of box plots is\n",
        "    an value that is more than Q3 + 1.5 (Q3 - Q1) and less than Q1 - 1.5\n",
        "    (Q3 - Q1).\n",
        "\n",
        "Box plots:\n",
        "\n",
        "-   are useful for identifying outliers and skewness.\n",
        "-   throw away a lot of information.\n",
        "    -   be cautious in making conclusions about skewness and modality.\n",
        "\n",
        "The `boxplot` function is the easiest approach for producing a box plot\n",
        "using base R."
      ],
      "id": "de1f8953-8c19-4924-8045-95409456a42c"
    },
    {
      "cell_type": "code",
      "execution_count": null,
      "metadata": {},
      "outputs": [],
      "source": [
        "boxplot(penguins_clean$body_mass,\n",
        "        main = \"distribution of body mass\")"
      ],
      "id": "92a69358-43dd-4d24-8d8a-a5e9b9b43cbf"
    },
    {
      "cell_type": "markdown",
      "metadata": {},
      "source": [
        "**Questions:**\n",
        "\n",
        "-   Are there any outliers?\n",
        "-   Is there evidence the variable is skewed?\n",
        "\n",
        "To create a box plot using **ggplot2**, we use `geom_boxplot`."
      ],
      "id": "69e3a30b-8bb1-449e-a36a-dcf8f5f84835"
    },
    {
      "cell_type": "code",
      "execution_count": null,
      "metadata": {},
      "outputs": [],
      "source": [
        "gg_penguin + geom_boxplot(aes(y = bill_length))"
      ],
      "id": "8c648ba6-3cb5-4323-80ec-6499af3e6b04"
    },
    {
      "cell_type": "markdown",
      "metadata": {},
      "source": [
        "**Questions:**\n",
        "\n",
        "-   Are there outliers?\n",
        "-   Is there evidence the variable is skewed?\n",
        "\n",
        "### Histograms\n",
        "\n",
        "A histogram:\n",
        "\n",
        "-   Displays the distribution of a `numeric` variable.\n",
        "-   Counts the number of values falling into (usually) equal-sized\n",
        "    “bins”. - are used to assess skewness, modality (the number of clear\n",
        "    “peaks” in the plot), and to some extent, outliers.\n",
        "\n",
        "The `hist` function is used create a histogram of a `numeric` variable."
      ],
      "id": "056f6af2-b220-4d95-a271-f7ab29593ad3"
    },
    {
      "cell_type": "code",
      "execution_count": null,
      "metadata": {},
      "outputs": [],
      "source": [
        "hist(penguins_clean$bill_length,\n",
        "     main = \"\",\n",
        "     xlab = \"bill length (mm)\",\n",
        "     breaks = 20)"
      ],
      "id": "21afbadc-69cc-4a68-b6dd-d8fd9fd36a0c"
    },
    {
      "cell_type": "markdown",
      "metadata": {},
      "source": [
        "**Questions:**\n",
        "\n",
        "-   Is the variable unimodal?\n",
        "-   What does this say about the skew?\n",
        "-   What does this tell us that numeric summaries did not?\n",
        "\n",
        "We use `geom_histogram` to create a histogram using **ggplot2**."
      ],
      "id": "b877ff9e-bccb-4464-993c-01da274f1f12"
    },
    {
      "cell_type": "code",
      "execution_count": null,
      "metadata": {},
      "outputs": [],
      "source": [
        "gg_penguin + geom_histogram(aes(x = flipper_length))"
      ],
      "id": "3e089f39-5c68-4709-82c4-5f1796eda10c"
    },
    {
      "cell_type": "markdown",
      "metadata": {},
      "source": [
        "**Question:** Is the variable unimodal or bimodal?\n",
        "\n",
        "### Density plots\n",
        "\n",
        "A density plot is similar to a smoothed histogram.\n",
        "\n",
        "-   The area under the smoothed curve must equal 1.\n",
        "-   Density plots sometimes have problems near the edges of a variable\n",
        "    with a fixed upper or lower bound because it is difficult to know\n",
        "    how to smooth the data in that case.\n",
        "\n",
        "The `plot` and `density` function can be combined to construct a density\n",
        "plot using **base** R."
      ],
      "id": "887dcc32-6f02-4415-a4e4-df03bf81fd4d"
    },
    {
      "cell_type": "code",
      "execution_count": null,
      "metadata": {},
      "outputs": [],
      "source": [
        "plot(density(penguins_clean$bill_depth,\n",
        "             na.rm = TRUE),\n",
        "     main = \"\")"
      ],
      "id": "b5fc63e2-d1a5-4a16-a826-2391ed822e30"
    },
    {
      "cell_type": "markdown",
      "metadata": {},
      "source": [
        "**Question:** Is the variable unimodal or bimodal?\n",
        "\n",
        "We create a density plot with **ggplot2** using `geom_density`."
      ],
      "id": "5e2617aa-453b-42d8-b5df-97ee5f92cc5b"
    },
    {
      "cell_type": "code",
      "execution_count": null,
      "metadata": {},
      "outputs": [],
      "source": [
        "gg_penguin + geom_density(aes(x = body_mass))"
      ],
      "id": "cd6e9add-bcf5-4dd3-89ae-f7dde7b4e224"
    },
    {
      "cell_type": "markdown",
      "metadata": {},
      "source": [
        "**Questions:**\n",
        "\n",
        "-   Is the `body_mass` variable is unimodal?\n",
        "-   Is there evidence the variable is skewed?\n",
        "\n",
        "## Bivariate plots\n",
        "\n",
        "A `bivariate` plot is a plot involving two variables.\n",
        "\n",
        "### Scatter plots\n",
        "\n",
        "Scatter plots can be used to identify the relationship between two\n",
        "`numeric` variables.\n",
        "\n",
        "We use the `plot` function to create a scatter plot."
      ],
      "id": "d61af771-91d2-416b-a7cc-c115a0523b3d"
    },
    {
      "cell_type": "code",
      "execution_count": null,
      "metadata": {},
      "outputs": [],
      "source": [
        "# xlab and ylab are used to customize the x-axis and y-axis labels\n",
        "plot(bill_length ~ body_mass,\n",
        "     data = penguins_clean,\n",
        "     xlab = \"body mass (g)\",\n",
        "     ylab = \"bill length (mm)\")"
      ],
      "id": "59d50d3e-3693-4f07-8778-ce51dc1f8e3b"
    },
    {
      "cell_type": "markdown",
      "metadata": {},
      "source": [
        "**Questions:**\n",
        "\n",
        "-   Is there a linear relationship between `body_mass` and\n",
        "    `bill length`?\n",
        "-   Is it positive or negative?\n",
        "\n",
        "The `geom_point` function can be used to create a scatter plot with\n",
        "**ggplot2**."
      ],
      "id": "cc485a7f-171c-4f98-89e6-45b5e1ce102e"
    },
    {
      "cell_type": "code",
      "execution_count": null,
      "metadata": {},
      "outputs": [],
      "source": [
        "gg_penguin +\n",
        "  geom_point(aes(x = bill_depth, y = bill_length))"
      ],
      "id": "d2bcef88-62c6-43f9-b84f-96fb73132527"
    },
    {
      "cell_type": "markdown",
      "metadata": {},
      "source": [
        "**Question:** What can we conclude from this plot?\n",
        "\n",
        "### Parallel box plots\n",
        "\n",
        "A parallel box plot:\n",
        "\n",
        "-   Is used to display the distribution of a `numeric` variable whose\n",
        "    values are grouped based on each `level` of a `factor` variable.\n",
        "-   Are useful for determining if the distribution of a `numeric`\n",
        "    variable substantially changes based on whether an observation has a\n",
        "    certain `level` of a `factor`."
      ],
      "id": "f6c47c2f-6148-41cc-b86b-ff972f5cc3f0"
    },
    {
      "cell_type": "code",
      "execution_count": null,
      "metadata": {},
      "outputs": [],
      "source": [
        "plot(body_mass ~ sex, data = penguins_clean)"
      ],
      "id": "2603c78d-dfdc-429f-9309-5f87bd48fde5"
    },
    {
      "cell_type": "markdown",
      "metadata": {},
      "source": [
        "We can produce something similar with **ggplot2** by specifying both the\n",
        "`y` and `x` aesthetics of for `geom_boxplot`."
      ],
      "id": "f6a17346-0204-4807-b15d-15184a658ef2"
    },
    {
      "cell_type": "code",
      "execution_count": null,
      "metadata": {},
      "outputs": [],
      "source": [
        "gg_penguin + \n",
        "  geom_boxplot(aes(x = species, y = bill_length))"
      ],
      "id": "48eb12e1-f7c6-4405-9215-cd151aaee4db"
    },
    {
      "cell_type": "markdown",
      "metadata": {},
      "source": [
        "## Multivariate plots\n",
        "\n",
        "A multivariate plot displays relationships between 2 or more variables.\n",
        "\n",
        "Multivariate plots are more easily created using **ggplot2** than\n",
        "**base**.\n",
        "\n",
        "### Grouped scatter plot\n",
        "\n",
        "A grouped scatter plot is a scatter plot that uses colors or symbols (or\n",
        "both) to indicate the `level` of a `factor` variable that each point\n",
        "corresponds to."
      ],
      "id": "848ab99b-5ede-4499-b9ee-26b20c5970a6"
    },
    {
      "cell_type": "code",
      "execution_count": null,
      "metadata": {},
      "outputs": [],
      "source": [
        "gg_penguin +\n",
        "  geom_point(aes(x = body_mass,\n",
        "                 y = flipper_length,\n",
        "                 color = species))"
      ],
      "id": "9ba86735-d2ab-491d-b7c5-38e60d372189"
    },
    {
      "cell_type": "markdown",
      "metadata": {},
      "source": [
        "We use a colorblind-friendly palette and some additional customizations\n",
        "below. An excellent resource for choosing a color palette is\n",
        "[https://colorbrewer2.org](https://colorbrewer2.org%5D(https://colorbrewer2.org))."
      ],
      "id": "3394a4d8-e71c-4273-9b63-eaea8b9fc6b8"
    },
    {
      "cell_type": "code",
      "execution_count": null,
      "metadata": {},
      "outputs": [],
      "source": [
        "gg_penguin +\n",
        "  geom_point(aes(x = body_mass,\n",
        "                 y = flipper_length,\n",
        "                 color = species,\n",
        "                 shape = species)) +\n",
        "  scale_color_brewer(type = \"qual\",\n",
        "                     palette = \"Dark2\") +\n",
        "  xlab(\"body mass (g)\") +\n",
        "  ylab(\"flipper length (mm)\") +\n",
        "  ggtitle(\"body mass versus flipper length by species\")"
      ],
      "id": "c4e62406-d6f1-4611-a986-253f1fe73da0"
    },
    {
      "cell_type": "markdown",
      "metadata": {},
      "source": [
        "### Facetted plots (and alternatives)\n",
        "\n",
        "Facetting creates separate panels (facets) of plots based on one or more\n",
        "facetting variables.\n",
        "\n",
        "The key functions to do this with **ggplot2** are:\n",
        "\n",
        "-   `facet_grid` is used to create a grid of plots based on one or two\n",
        "    `factor` variables.\n",
        "-   `facet_wrap` wraps facets of panels around the plot based on one\n",
        "    `factor` variable.."
      ],
      "id": "789bddda-9a1c-4a0a-9c60-17332e31ef69"
    },
    {
      "cell_type": "code",
      "execution_count": null,
      "metadata": {},
      "outputs": [],
      "source": [
        "# simple facetting example\n",
        "gg_penguin +\n",
        "  geom_point(aes(x = bill_depth, y = bill_length)) +\n",
        "  facet_grid(~ species)"
      ],
      "id": "d8dbbf16-9fa0-437e-ab26-8e74660d598e"
    },
    {
      "cell_type": "markdown",
      "metadata": {},
      "source": [
        "How do we deal with NAs in facetting?"
      ],
      "id": "808136d9-a5a5-4144-8ff1-f6d614af71b4"
    },
    {
      "cell_type": "code",
      "execution_count": null,
      "metadata": {},
      "outputs": [],
      "source": [
        "# facetting with NA facet!\n",
        "gg_penguin +\n",
        "  geom_density(aes(x = body_mass)) +\n",
        "  facet_grid(~ sex)\n",
        "# to remove NA facet, you must remove NAs\n",
        "# only do this for relevant columns to retain\n",
        "# as much data as possible\n",
        "penguins_temp <-\n",
        "  penguins_clean |>\n",
        "  subset(select = c(body_mass, sex, species)) |>\n",
        "  na.omit()\n",
        "# new plot from \"clean\" data\n",
        "ggplot(penguins_temp) +\n",
        "  geom_density(aes(x = body_mass)) +\n",
        "  facet_grid(~ sex)"
      ],
      "id": "d130e324-0726-46ad-b164-4ade88d0e743"
    },
    {
      "cell_type": "markdown",
      "metadata": {},
      "source": [
        "Here’s another facetting example that uses transparency."
      ],
      "id": "9ccd34e3-58d1-4b86-b123-c3e738038b5d"
    },
    {
      "cell_type": "code",
      "execution_count": null,
      "metadata": {},
      "outputs": [],
      "source": [
        "ggplot(data = penguins_temp) +\n",
        "  geom_density(aes(x = body_mass, fill = sex),\n",
        "               alpha = 0.5) +\n",
        "  facet_grid(~ species)"
      ],
      "id": "e8427c1c-7529-47ea-94c2-4c8a6b437f09"
    },
    {
      "cell_type": "markdown",
      "metadata": {},
      "source": [
        "### Interactive graphics\n",
        "\n",
        "The **`plotly`** package is an R package to provide the capabilities of\n",
        "plotly \\[<https://plotly.com/>\\].\n",
        "\n",
        "-   plotly is a well-known tool for creating interactive graphics.\n",
        "-   The `ggplotly` function will instantly make a `ggplot` interactive."
      ],
      "id": "aadffbf1-38bb-49ab-8e85-f5e7f3277e7a"
    },
    {
      "cell_type": "code",
      "execution_count": null,
      "metadata": {},
      "outputs": [],
      "source": [
        "# load plotly package\n",
        "library(plotly)\n",
        "# create grouped scatter plot\n",
        "ggi <-\n",
        "  gg_penguin +\n",
        "  geom_point(aes(x = body_mass, y = flipper_length,\n",
        "                 color = species, shape = species)) +\n",
        "  scale_color_brewer(type = \"qual\", palette = \"Dark2\") +\n",
        "  xlab(\"body mass (g)\") + ylab(\"flipper length (mm)\") +\n",
        "  ggtitle(\"body mass versus flipper length by species\")\n",
        "# make plot interactive\n",
        "ggplotly(ggi)"
      ],
      "id": "62e653b4-7296-4c49-ad50-28c47947518b"
    },
    {
      "cell_type": "code",
      "execution_count": null,
      "metadata": {},
      "outputs": [],
      "source": [
        "# create parallel box plots\n",
        "ggi2 <-\n",
        "  gg_penguin +\n",
        "  geom_boxplot(aes(x = species, y = bill_length))\n",
        "# make plot interactive\n",
        "ggplotly(ggi2)"
      ],
      "id": "af845a52-5151-440e-a775-d5dc3c4075fc"
    },
    {
      "cell_type": "markdown",
      "metadata": {},
      "source": [
        "## A plan for data cleaning and exploration\n",
        "\n",
        "1.  Import or create the data set.\n",
        "2.  Use the `str` or `dplyr::glimpse` function to get an idea of the\n",
        "    initial structure. Look for problems with variable names and types,\n",
        "    etc.\n",
        "3.  Clean the variable names based on your preferences.\n",
        "4.  Convert the variables to the appropriate type (e.g., categorical\n",
        "    variables to `factor`).\n",
        "5.  Run the `summary` function on your data frame. Take note of `NAs`,\n",
        "    impossible values that are data entry errors, etc. Perhaps perform\n",
        "    some additional cleaning based on this information.\n",
        "6.  Compute any additional numeric summaries of the different variables,\n",
        "    as desired.\n",
        "7.  Create univariate plots of all variables you are considering.\n",
        "\n",
        "-   Use histograms for discrete `numeric` variables\n",
        "-   Use density plots for continuous `numeric` variables.\n",
        "-   Use bar plots for `factor` variables.\n",
        "-   Take note of any interesting patterns such as modality, skewness,\n",
        "    overall shape, outliers, etc.\n",
        "\n",
        "1.  Create bivariate plots of any pairs of variables.\n",
        "\n",
        "-   Use scatter plots for two `numeric` variables.\n",
        "-   Or use parallel box plots for `numeric` and `factor` variables.\n",
        "-   Or use histograms of the `numeric` variable facetted by the `factor`\n",
        "    variable.\n",
        "-   Or use density plots of the `numeric` variables filled with\n",
        "    different colors by the `factor` variable.\n",
        "\n",
        "1.  Create multivariate and interactive graphics based on what you\n",
        "    learned in the previous steps.\n",
        "\n",
        "## Final notes on missing or erroneous data\n",
        "\n",
        "Correct erroneous data entries, when possible. If that’s not possible,\n",
        "replace them with `NA` values.\n",
        "\n",
        "What should you do about `NA`s?\n",
        "\n",
        "-   If there is no systematic reason why the data are missing, then\n",
        "    ignoring the observations with missing data isn’t a terrible\n",
        "    approach.\n",
        "-   If there is a systematic reason why the data are missing (such as\n",
        "    individuals not wanting to answer a sensitive question, subjects\n",
        "    dying for a specific reason) then ignoring that data can lead to\n",
        "    erroneous conclusions."
      ],
      "id": "297162be-c8e8-4003-adb8-5472d80e9384"
    }
  ],
  "nbformat": 4,
  "nbformat_minor": 5,
  "metadata": {
    "kernelspec": {
      "name": "ir",
      "display_name": "R",
      "language": "R"
    }
  }
}