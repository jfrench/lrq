{
  "cells": [
    {
      "cell_type": "markdown",
      "metadata": {},
      "source": [
        "# OER Conference Notebook\n",
        "\n",
        "Joshua French\n",
        "\n",
        "To open this information in an interactive Colab notebook, click the\n",
        "Open in Colab graphic below.\n",
        "\n",
        "<a href=\"https://colab.research.google.com/github/jfrench/LinearRegression/blob/master/notebooks/z-oer-demo-notebook.ipynb\">\n",
        "<img src=\"https://colab.research.google.com/assets/colab-badge.svg\"/>\n",
        "</a>\n",
        "\n",
        "# Load some data"
      ],
      "id": "b5ad0bba-001f-427d-be7b-08e39b6442ac"
    },
    {
      "cell_type": "code",
      "execution_count": 1,
      "metadata": {},
      "outputs": [],
      "source": [
        "data(mtcars)"
      ],
      "id": "db579b60-402d-413d-8e54-e64717ef9f62"
    },
    {
      "cell_type": "markdown",
      "metadata": {},
      "source": [
        "# Create some plots\n",
        "\n",
        "Create a scatter plot of `mpg` vs `wt`."
      ],
      "id": "fd256671-96fc-47e1-9ed9-00617c5f23c2"
    },
    {
      "cell_type": "code",
      "execution_count": 2,
      "metadata": {},
      "outputs": [],
      "source": [
        "plot(mpg ~ wt, data = mtcars,\n",
        "     xlab = \"weight (1000 lbs)\",\n",
        "     ylab = \"miles per gallon\")"
      ],
      "id": "0252ca94-d580-4f79-83a1-0ffe70661034"
    },
    {
      "cell_type": "markdown",
      "metadata": {},
      "source": [
        "# Build a model"
      ],
      "id": "aa557813-76c1-44ea-98c2-ea33b1182f5e"
    },
    {
      "cell_type": "code",
      "execution_count": 3,
      "metadata": {},
      "outputs": [],
      "source": [
        "lmod <- lm(mpg ~ wt, data = mtcars)"
      ],
      "id": "9c693ac3-1a8f-43f0-b944-c55b09679fa4"
    },
    {
      "cell_type": "markdown",
      "metadata": {},
      "source": [
        "# Fit of model"
      ],
      "id": "2962a550-0100-4fdb-b019-f59632955b67"
    },
    {
      "cell_type": "code",
      "execution_count": 4,
      "metadata": {},
      "outputs": [],
      "source": [
        "plot(mpg ~ wt, data = mtcars,\n",
        "     xlab = \"weight (1000 lbs)\",\n",
        "     ylab = \"miles per gallon\")\n",
        "abline(lmod)"
      ],
      "id": "4e81483d-e949-4a71-881f-b8a831114d1e"
    }
  ],
  "nbformat": 4,
  "nbformat_minor": 5,
  "metadata": {
    "kernelspec": {
      "name": "ir",
      "display_name": "R",
      "language": "R"
    },
    "language_info": {
      "name": "R",
      "codemirror_mode": "r",
      "file_extension": ".r",
      "mimetype": "text/x-r-source",
      "pygments_lexer": "r",
      "version": "4.2.2"
    }
  }
}