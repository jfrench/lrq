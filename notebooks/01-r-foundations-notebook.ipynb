{
  "cells": [
    {
      "cell_type": "markdown",
      "metadata": {},
      "source": [
        "# Chapter 1 - R Foundations\n",
        "\n",
        "Joshua French\n",
        "\n",
        "To open this information in an interactive Colab notebook, click the\n",
        "Open in Colab graphic below.\n",
        "\n",
        "<a href=\"https://colab.research.google.com/github/jfrench/lqr/blob/master/notebooks/01-r-foundations-notebook.ipynb\">\n",
        "<img src=\"https://colab.research.google.com/assets/colab-badge.svg\">\n",
        "</a>\n",
        "\n",
        "<a rel=\"license\" href=\"http://creativecommons.org/licenses/by-nc-sa/4.0/\"><img alt=\"Creative Commons License\" style=\"border-width:0\" src=\"https://i.creativecommons.org/l/by-nc-sa/4.0/80x15.png\" /></a>\n",
        "This work is licensed under a\n",
        "<a rel=\"license\" href=\"http://creativecommons.org/licenses/by-nc-sa/4.0/\">Creative\n",
        "Commons Attribution-NonCommercial-ShareAlike 4.0 International\n",
        "License</a>.\n",
        "\n",
        "## Setting up R and RStudio Desktop\n",
        "\n",
        "### What is R?\n",
        "\n",
        "R is a programming language and environment designed for statistical\n",
        "computing.\n",
        "[(https://www.r-project.org/about.html)](https://www.r-project.org/about.html)\n",
        "\n",
        "Some important facts about R are that:\n",
        "\n",
        "-   R is free, open source, and runs on many different types of\n",
        "    computers (Windows, Mac, Linux, and others).\n",
        "-   R is an interactive programming language.\n",
        "    -   You type and run a command in the Console for immediate\n",
        "        feedback, in contrast to a compiled programming language, which\n",
        "        compiles a program that is then executed.\n",
        "-   R is highly extendable.\n",
        "    -   Many user-created packages are available to extend the\n",
        "        functionality beyond what is installed by default.\n",
        "    -   Users can write their own functions and easily add software\n",
        "        libraries to R.\n",
        "\n",
        "### Installing R and RStudio\n",
        "\n",
        "Install R by downloading an installer program from the R Project’s\n",
        "website [(https://www.r-project.org/)](https://www.r-project.org/).\n",
        "\n",
        "RStudio Desktop is a free “front end” for R that makes doing data\n",
        "analysis with R much easier by adding an Integrated Development\n",
        "Environment (IDE) and providing many other features. Currently, you may\n",
        "download RStudio at <https://posit.co/download/rstudio-desktop/>.\n",
        "\n",
        "### RStudio Layout\n",
        "\n",
        "RStudio Desktop has four panes:\n",
        "\n",
        "1.  Console: the pane where commands are run.\n",
        "2.  Source: the pane where you prepare commands to be run.\n",
        "3.  Environment/History: the pane where you can see all the objects in\n",
        "    your workspace, your command history, and other information.\n",
        "4.  The Files/Plot/Packages/Help: the pane where you navigate between\n",
        "    directories, where plots can be viewed, where you can see the\n",
        "    packages available to be loaded, and where you can get help.\n",
        "\n",
        "Tip: Change your R Studio environment so that it doesn’t save the\n",
        "current workspace.\n",
        "\n",
        "## Running code, scripts, and comments\n",
        "\n",
        "You can run code in R by typing it in the Console next to the `>` symbol\n",
        "and pressing the Enter key.\n",
        "\n",
        "It’s better to write your commands in a “Script” file, save the Script,\n",
        "and then run your commands from the Script. The commands in a Script\n",
        "file are generically referred to as “code”.\n",
        "\n",
        "Script files make it easy to:\n",
        "\n",
        "-   Reproduce your data analysis without retyping all your commands.\n",
        "-   Share your code with others.\n",
        "\n",
        "A new Script file can be obtained by:\n",
        "\n",
        "-   Clicking File → New File → R Script in the RStudio menu bar.\n",
        "-   Pressing `Ctrl + Shift + n` on a PC or `Cmd + Shift + n` on a Mac.\n",
        "\n",
        "To run code from a Script file:\n",
        "\n",
        "-   Highlight the code you want to run and click the Run button at the\n",
        "    top of the Script pane.\n",
        "-   Highlight the code you want to run and press “Ctrl + Enter” on your\n",
        "    keyboard. If you don’t highlight anything, by default, RStudio runs\n",
        "    the command the cursor currently lies on.\n",
        "\n",
        "To save a Script file:\n",
        "\n",
        "-   Click File → Save in the RStudio menu bar.\n",
        "-   Press `Ctrl + s` on a PC or `Cmd + s` on a Mac.\n",
        "\n",
        "A comment is a set of text ignored by R when submitted to the Console.\n",
        "\n",
        "A comment is indicated by the `#` symbol. Nothing to the right of the\n",
        "`#` is executed by the Console.\n",
        "\n",
        "To comment (or uncomment) multiple lines of code in the Source pane of\n",
        "RStudio, highlight the code you want to comment and press\n",
        "`Ctrl + Shift + c` on a PC or `Cmd + Shift + c` on a Mac.\n",
        "\n",
        "------------------------------------------------------------------------\n",
        "\n",
        "### Hands-on Practice\n",
        "\n",
        "Perform the following tasks:\n",
        "\n",
        "1.  Type `1+1` in the Console and press Enter.\n",
        "2.  Open a new Script in RStudio.\n",
        "3.  Type `mean(1:3)` in your Script file.\n",
        "4.  Type `# mean(1:3)` in your Script file.\n",
        "5.  Run the commands from the Script using an approach mentioned above.\n",
        "6.  Save your Script file.\n",
        "7.  Use the keyboard shortcut to “comment out” some of the lines of your\n",
        "    Script file."
      ],
      "id": "be75551a-5869-43e3-bd0b-70678b0ac234"
    },
    {
      "cell_type": "code",
      "execution_count": 1,
      "metadata": {},
      "outputs": [],
      "source": [
        "# type your commands here"
      ],
      "id": "66f069c3"
    },
    {
      "cell_type": "markdown",
      "metadata": {},
      "source": [
        "------------------------------------------------------------------------\n",
        "\n",
        "## Assignment in R\n",
        "\n",
        "R works on various types of objects that we’ll learn more about later.\n",
        "\n",
        "To store an object in the computer’s memory we must assign it a name\n",
        "using the assignment operator `<-` or the equal sign `=`.\n",
        "\n",
        "Some comments:\n",
        "\n",
        "-   In general, both `<-` and `=` can be used for assignment.\n",
        "-   Pressing `Alt + -` on a PC or `Option + -` on a Mac will insert `<-`\n",
        "    into the R Console and Script files.\n",
        "    -   If you are creating an R Markdown file, then this shortcut will\n",
        "        only insert `<-` if you are in an R code block.\n",
        "-   `<-` and `=` are NOT synonyms, but can be used identically most of\n",
        "    the time.\n",
        "\n",
        "## Functions\n",
        "\n",
        "To use a function, you type the function’s name in the Console (or\n",
        "Script) and then supply the function’s “arguments” between parentheses,\n",
        "`()`.\n",
        "\n",
        "The arguments of a function are pieces of data or information the\n",
        "function needs to perform the requested task (i.e., the function\n",
        "“inputs”). Each argument you supply is separated by a comma, `,`.\n",
        "\n",
        "------------------------------------------------------------------------\n",
        "\n",
        "### Hands-on Practice\n",
        "\n",
        "Run the following commands in the Console.\n",
        "\n",
        "What is each command doing?"
      ],
      "id": "2b747592-2efd-4155-9777-f785230fd3e2"
    },
    {
      "cell_type": "code",
      "execution_count": 2,
      "metadata": {},
      "outputs": [],
      "source": [
        "m <- mean(1:10)"
      ],
      "id": "2032b299"
    },
    {
      "cell_type": "code",
      "execution_count": 3,
      "metadata": {},
      "outputs": [],
      "source": [
        "m"
      ],
      "id": "47e46bdd"
    },
    {
      "cell_type": "code",
      "execution_count": 4,
      "metadata": {},
      "outputs": [],
      "source": [
        "print(m)"
      ],
      "id": "7f605c3a"
    },
    {
      "cell_type": "code",
      "execution_count": 5,
      "metadata": {},
      "outputs": [],
      "source": [
        "mean(c(1, 5, 3, 4, 10))"
      ],
      "id": "da043e76"
    },
    {
      "cell_type": "code",
      "execution_count": 6,
      "metadata": {},
      "outputs": [],
      "source": [
        "mean(c(1, 5, 3, 4, 10), trim = 0.2)"
      ],
      "id": "52527919"
    },
    {
      "cell_type": "markdown",
      "metadata": {},
      "source": [
        "------------------------------------------------------------------------\n",
        "\n",
        "## Packages\n",
        "\n",
        "Packages are collections of functions, data, and other objects that\n",
        "extend the functionality available in R by default.\n",
        "\n",
        "R packages can be installed using the `install.packages` function and\n",
        "loaded using the `library` function.\n",
        "\n",
        "The **tidyverse** package (actually, a collection of packages) contains\n",
        "data and some useful functions we will be using later in the course.\n",
        "\n",
        "------------------------------------------------------------------------\n",
        "\n",
        "### Hands-on Practice"
      ],
      "id": "6c4be6a2-d93d-4545-ab86-c78876c8b20c"
    },
    {
      "cell_type": "code",
      "execution_count": 7,
      "metadata": {},
      "outputs": [],
      "source": [
        "# install tidyverse if it's not already installed\n",
        "if (!require(\"tidyverse\")){\n",
        "    install.packages(\"tidyverse\")\n",
        "}"
      ],
      "id": "b3d018f0"
    },
    {
      "cell_type": "markdown",
      "metadata": {},
      "source": [
        "After you install **tidyverse**, load the package by running the command\n",
        "below."
      ],
      "id": "367111f2-d0f3-4429-b778-9c2643ef9dcd"
    },
    {
      "cell_type": "code",
      "execution_count": 8,
      "metadata": {},
      "outputs": [],
      "source": [
        "library(tidyverse)"
      ],
      "id": "e231906a"
    },
    {
      "cell_type": "markdown",
      "metadata": {},
      "source": [
        "------------------------------------------------------------------------\n",
        "\n",
        "## Getting Help\n",
        "\n",
        "There are many ways to get help in R.\n",
        "\n",
        "-   To get help for a function named `command`, run `?command` to access\n",
        "    the documentation\n",
        "\n",
        "    -   The Documentation will provide information on the function use,\n",
        "        arguments, usage examples, and more.\n",
        "\n",
        "-   Running `??topic` will search the documentation for any occurrence\n",
        "    of the word “topic” and provide a list of relevant documentation to\n",
        "    consider.\n",
        "\n",
        "-   Stack Overflow (<https://www.stackoverflow.com>) is a great resource\n",
        "    to find solutions.\n",
        "\n",
        "------------------------------------------------------------------------\n",
        "\n",
        "### Hands-on Practice\n",
        "\n",
        "Let’s get help on the `lm` function."
      ],
      "id": "92833fea-3b4c-437f-98db-102bc7b7d31f"
    },
    {
      "cell_type": "code",
      "execution_count": 9,
      "metadata": {},
      "outputs": [],
      "source": [
        "?lm"
      ],
      "id": "bd738619"
    },
    {
      "cell_type": "code",
      "execution_count": 10,
      "metadata": {},
      "outputs": [],
      "source": [
        "??lm"
      ],
      "id": "64ba6da2"
    },
    {
      "cell_type": "markdown",
      "metadata": {},
      "source": [
        "------------------------------------------------------------------------\n",
        "\n",
        "## Data Types and Structures\n",
        "\n",
        "### Basic Data Types\n",
        "\n",
        "R has 6 basic vector types:\n",
        "\n",
        "1.  character: collections of characters. E.g., `\"a\"`, `\"hello world!\"`.\n",
        "2.  double: decimal numbers. e.g., `1.2`, `1.0`.\n",
        "3.  integer: whole numbers. In R, you must add `L` to the end of a\n",
        "    number to specify it as an integer. E.g., `1L` is an integer but `1`\n",
        "    is a double.\n",
        "4.  logical: boolean values, `TRUE` and `FALSE`.\n",
        "5.  complex: complex numbers. E.g., `1+3i`.\n",
        "6.  raw: a type to hold raw bytes.\n",
        "\n",
        "### Other important object types\n",
        "\n",
        "-   **Numeric**: An object is `numeric` if it is of type `integer` or\n",
        "    `double`. In that case, it’s `mode` is said to be `numeric`.\n",
        "-   **NULL**: `NULL` is a special object to indicate an object is\n",
        "    absent.\n",
        "    -   An object having a length of zero is not the same thing as an\n",
        "        object being absent.\n",
        "-   **NA**: A “missing value” occurs when the value of something isn’t\n",
        "    known. R uses the special object `NA` to represent a missing value.\n",
        "    -   If you have a missing value, you should represent that value as\n",
        "        `NA`. Note: `\"NA\"` is not the same thing as `NA`.\n",
        "\n",
        "## Data structures\n",
        "\n",
        "R operates on data structures. A data structure is a “container” that\n",
        "holds certain kinds of information.\n",
        "\n",
        "R has 5 basic data structures:\n",
        "\n",
        "1.  vector.\n",
        "2.  matrix.\n",
        "3.  array.\n",
        "4.  data frame.\n",
        "5.  list.\n",
        "\n",
        "## Vectors\n",
        "\n",
        "### Creating vectors\n",
        "\n",
        "A *vector* is a one-dimensional set of data of the same type.\n",
        "\n",
        "The most basic way to create a vector is the `c` (combine) function.\n",
        "\n",
        "The following commands create vectors of type `numeric`, `character`,\n",
        "and `logical`, respectively.\n",
        "\n",
        "-   `c(1, 2, 5.3, 6, -2, 4)`\n",
        "-   `c(\"one\", \"two\", \"three\")`\n",
        "-   `c(TRUE, TRUE, FALSE, TRUE)`\n",
        "\n",
        "### The `seq` function\n",
        "\n",
        "The `seq` (sequence) function is used to create an equidistant series of\n",
        "numeric values.\n",
        "\n",
        "-   `seq(1, 10)` or `1:10` creates a sequence of numbers from 1 to 10 in\n",
        "    increments of 1.\n",
        "-   `seq(1, 20, by = 2)` creates a sequence of numbers from 1 to 20 in\n",
        "    increments of 2.\n",
        "-   `seq(10, 20, len = 100)` creates a sequence of numbers from 10 to 20\n",
        "    of length 100.\n",
        "\n",
        "------------------------------------------------------------------------\n",
        "\n",
        "### Hands-on Practice\n",
        "\n",
        "Run the commands below in the Console and try to answer the questions\n",
        "below.\n",
        "\n",
        "What does the `by` argument of the `seq` function control?\n",
        "\n",
        "What does the `len` argument of the `seq` function control?"
      ],
      "id": "0fcb087a-61dd-49d6-b784-874440f70ea2"
    },
    {
      "cell_type": "code",
      "execution_count": 11,
      "metadata": {},
      "outputs": [],
      "source": [
        "seq(1, 10)"
      ],
      "id": "96e29c96"
    },
    {
      "cell_type": "code",
      "execution_count": 12,
      "metadata": {},
      "outputs": [],
      "source": [
        "1:10"
      ],
      "id": "81e8b21b"
    },
    {
      "cell_type": "code",
      "execution_count": 13,
      "metadata": {},
      "outputs": [],
      "source": [
        "seq(1, 20, by = 2)"
      ],
      "id": "854991e5"
    },
    {
      "cell_type": "code",
      "execution_count": 14,
      "metadata": {},
      "outputs": [],
      "source": [
        "seq(10, 20, len = 100)"
      ],
      "id": "965bd0ae"
    },
    {
      "cell_type": "markdown",
      "metadata": {},
      "source": [
        "------------------------------------------------------------------------\n",
        "\n",
        "### The `rep` function\n",
        "\n",
        "The `rep` (replicate) function can be used to create a vector by\n",
        "replicating values.\n",
        "\n",
        "-   `rep(1:3, times = 3)` replicates the sequence `1, 2, 3` three times.\n",
        "-   `rep(c(\"trt1\", \"trt2\", \"trt3\"), times = 1:3)` replicates `\"trt1\"`\n",
        "    once, `\"trt2\"` twice, and `\"trt3\"` three times.\n",
        "-   `rep(1:3, each = 3)` replicates each element three times.\n",
        "\n",
        "------------------------------------------------------------------------\n",
        "\n",
        "### Hands-on Practice\n",
        "\n",
        "Run the commands below in the Console and try to answer the questions\n",
        "below.\n",
        "\n",
        "What does the `times` argument of the `rep` function control?\n",
        "\n",
        "What does the `each` argument of the `rep` function control?"
      ],
      "id": "c176ccdc-fb6b-4e18-a547-a59ce7ee5c1b"
    },
    {
      "cell_type": "code",
      "execution_count": 15,
      "metadata": {},
      "outputs": [],
      "source": [
        "rep(1:3, times = 3)"
      ],
      "id": "23f52fa1"
    },
    {
      "cell_type": "code",
      "execution_count": 16,
      "metadata": {},
      "outputs": [],
      "source": [
        "rep(c(\"trt1\", \"trt2\", \"trt3\"), times = 1:3)"
      ],
      "id": "159e5cdd"
    },
    {
      "cell_type": "code",
      "execution_count": 17,
      "metadata": {},
      "outputs": [],
      "source": [
        "rep(1:3, each = 3)"
      ],
      "id": "1edc63c0"
    },
    {
      "cell_type": "markdown",
      "metadata": {},
      "source": [
        "------------------------------------------------------------------------\n",
        "\n",
        "### Combining vectors\n",
        "\n",
        "Multiple vectors can be combined into a new vector object using the `c`\n",
        "function.\n",
        "\n",
        "-   E.g., `c(v1, v2, v3)` would combine vectors `v1`, `v2`, and `v3`.\n",
        "\n",
        "------------------------------------------------------------------------\n",
        "\n",
        "### Hands-on Practice\n",
        "\n",
        "Run the commands below in the Console. Determine what action each\n",
        "command performs."
      ],
      "id": "10cb26b9-e61f-4f3c-a540-17ca8414995b"
    },
    {
      "cell_type": "code",
      "execution_count": 18,
      "metadata": {},
      "outputs": [],
      "source": [
        "v1 <- 1:5"
      ],
      "id": "9e54ce2d"
    },
    {
      "cell_type": "code",
      "execution_count": 19,
      "metadata": {},
      "outputs": [],
      "source": [
        "v2 <- c(1, 10, 11)"
      ],
      "id": "3b4def85"
    },
    {
      "cell_type": "code",
      "execution_count": 20,
      "metadata": {},
      "outputs": [],
      "source": [
        "v3 <- rep(1:2, each = 3)"
      ],
      "id": "ae73ec6b"
    },
    {
      "cell_type": "code",
      "execution_count": 21,
      "metadata": {},
      "outputs": [],
      "source": [
        "new <- c(v1, v2, v3)"
      ],
      "id": "303e230b"
    },
    {
      "cell_type": "code",
      "execution_count": 22,
      "metadata": {},
      "outputs": [],
      "source": [
        "new"
      ],
      "id": "28e7fcef"
    },
    {
      "cell_type": "markdown",
      "metadata": {},
      "source": [
        "------------------------------------------------------------------------\n",
        "\n",
        "### Categorical vectors\n",
        "\n",
        "Categorical data should be stored as a `factor` in R.\n",
        "\n",
        "#### Creating a `factor` object\n",
        "\n",
        "We create same `factor` variables below."
      ],
      "id": "82270565-1aac-45ec-9c30-5a284463e247"
    },
    {
      "cell_type": "code",
      "execution_count": 23,
      "metadata": {},
      "outputs": [],
      "source": [
        "f1 <- factor(rep(1:6, times = 3))\n",
        "f1"
      ],
      "id": "3178b0d6"
    },
    {
      "cell_type": "code",
      "execution_count": 24,
      "metadata": {},
      "outputs": [],
      "source": [
        "f2 <- factor(c(\"a\", 7, \"blue\", \"blue\", FALSE))\n",
        "f2"
      ],
      "id": "c87db4f5"
    },
    {
      "cell_type": "markdown",
      "metadata": {},
      "source": [
        "A printed `factor` object lists the `Levels` (i.e., unique categories)\n",
        "of the object.\n",
        "\n",
        "Some additional comments:\n",
        "\n",
        "-   `factor` objects aren’t technically vectors but behave like vectors,\n",
        "    which is why they are included here.\n",
        "-   The `is.factor` function can be used to determine whether an object\n",
        "    is a `factor`.\n",
        "\n",
        "------------------------------------------------------------------------\n",
        "\n",
        "#### Hands-on Practice\n",
        "\n",
        "Attempt to complete the following tasks:\n",
        "\n",
        "1.  Create a vector named `grp` that has two levels: `a` and `b`, where\n",
        "    the first 7 values are `a` and the second 4 values are `b`.\n",
        "2.  Run `is.factor(grp)` in the Console.\n",
        "3.  Run `is.vector(grp)` in the Console.\n",
        "4.  Run `typeof(grp)` in the Console."
      ],
      "id": "eb7c8097-6ca1-420f-985a-4f2762a4fd60"
    },
    {
      "cell_type": "code",
      "execution_count": 25,
      "metadata": {},
      "outputs": [],
      "source": [
        "# type your code here"
      ],
      "id": "5130d16f"
    },
    {
      "cell_type": "markdown",
      "metadata": {},
      "source": [
        "------------------------------------------------------------------------\n",
        "\n",
        "#### Creating an ordered `factor` object\n",
        "\n",
        "We can create `factor` objects with specific orderings of categories\n",
        "using the `level` and `ordered` arguments of the `factor` function.\n",
        "\n",
        "-   See `?factor` for more details)."
      ],
      "id": "e2a01962-ac67-4c7c-ad21-d952dfebd0c3"
    },
    {
      "cell_type": "code",
      "execution_count": 26,
      "metadata": {},
      "outputs": [],
      "source": [
        "size <- c(\"small\", \"medium\", \"small\", \"large\", \"medium\", \"medium\", \"large\")\n",
        "factor(size)"
      ],
      "id": "e08654e8"
    },
    {
      "cell_type": "code",
      "execution_count": 27,
      "metadata": {},
      "outputs": [],
      "source": [
        "# create ordered factor\n",
        "factor(size, levels = c(\"small\", \"medium\", \"large\"), ordered = TRUE)"
      ],
      "id": "02be3bf1"
    },
    {
      "cell_type": "markdown",
      "metadata": {},
      "source": [
        "------------------------------------------------------------------------\n",
        "\n",
        "### Extracting parts of a vector\n",
        "\n",
        "Parts of a vector can be extracted by appending an index vector in\n",
        "square brackets `[]`."
      ],
      "id": "acd391d4-1c6a-4122-a433-6907da04b980"
    },
    {
      "cell_type": "code",
      "execution_count": 28,
      "metadata": {},
      "outputs": [],
      "source": [
        "# define a sequence 2, 4, ..., 16\n",
        "a <- seq(2, 16, by = 2)\n",
        "# extract subset of vector\n",
        "a[c(2, 4, 6)]"
      ],
      "id": "e86222db"
    },
    {
      "cell_type": "markdown",
      "metadata": {},
      "source": [
        "Supplying a negative index vector indicates the values you want to\n",
        "exclude from your selection."
      ],
      "id": "7cc4288f-e979-4505-bb1c-112812767590"
    },
    {
      "cell_type": "code",
      "execution_count": 29,
      "metadata": {},
      "outputs": [],
      "source": [
        "a[-c(2, 4, 6)] # select all but element 2, 4, 6"
      ],
      "id": "c814ad99"
    },
    {
      "cell_type": "code",
      "execution_count": 30,
      "metadata": {},
      "outputs": [],
      "source": [
        "a[-(3:6)] # select all but elements 3-6"
      ],
      "id": "244dd477"
    },
    {
      "cell_type": "markdown",
      "metadata": {},
      "source": [
        "### Logical Expressions\n",
        "\n",
        "A logical expression uses one or more logical operators to determine\n",
        "which elements of an object satisfy the specified statement.\n",
        "\n",
        "The basic logical operators are:\n",
        "\n",
        "-   `<`, `<=`: less than, less than or equal to.\n",
        "-   `>`, `>=`: greater than, greater than or equal to.\n",
        "-   `==`: equal to.\n",
        "-   `!=`: not equal to.\n",
        "\n",
        "Creating a logical expression with a vector will result in a logical\n",
        "vector indicating whether each element satisfies the logical expression.\n",
        "\n",
        "------------------------------------------------------------------------\n",
        "\n",
        "#### Hands-on Practice\n",
        "\n",
        "Run the following commands in R and see what is printed. What task is\n",
        "each statement performing?"
      ],
      "id": "ad206d7f-f652-48c4-8fde-2b9a1b5ca352"
    },
    {
      "cell_type": "code",
      "execution_count": 31,
      "metadata": {},
      "outputs": [],
      "source": [
        "a > 10"
      ],
      "id": "0336bdf5"
    },
    {
      "cell_type": "code",
      "execution_count": 32,
      "metadata": {},
      "outputs": [],
      "source": [
        "a <= 4"
      ],
      "id": "e415e01b"
    },
    {
      "cell_type": "code",
      "execution_count": 33,
      "metadata": {},
      "outputs": [],
      "source": [
        "a == 10"
      ],
      "id": "1b6260da"
    },
    {
      "cell_type": "code",
      "execution_count": 34,
      "metadata": {},
      "outputs": [],
      "source": [
        "a != 10"
      ],
      "id": "bcc786c5"
    },
    {
      "cell_type": "markdown",
      "metadata": {},
      "source": [
        "#### The “and”, “or”, and “not” operators\n",
        "\n",
        "We can create more complicated logical expressions using the “and”,\n",
        "“or”, and “not” operators.\n",
        "\n",
        "-   `&`: and.\n",
        "-   `|`: or.\n",
        "-   `!`: not, i.e., not true\n",
        "\n",
        "------------------------------------------------------------------------\n",
        "\n",
        "#### Hands-on Practice\n",
        "\n",
        "Run the following commands below in the Console.\n",
        "\n",
        "What action is each command performing?\n",
        "\n",
        "What role does `&` serve in a sequence of logical values?\n",
        "\n",
        "Similarly, what roles do `|` and `!` serve in a sequence of logical\n",
        "values?"
      ],
      "id": "370f49bb-0185-42c6-a825-2e3b768c57c1"
    },
    {
      "cell_type": "code",
      "execution_count": 35,
      "metadata": {},
      "outputs": [],
      "source": [
        "TRUE & TRUE & TRUE"
      ],
      "id": "55d74342"
    },
    {
      "cell_type": "code",
      "execution_count": 36,
      "metadata": {},
      "outputs": [],
      "source": [
        "TRUE & TRUE & FALSE"
      ],
      "id": "ab4b78a6"
    },
    {
      "cell_type": "code",
      "execution_count": 37,
      "metadata": {},
      "outputs": [],
      "source": [
        "FALSE | TRUE | FALSE"
      ],
      "id": "f41ba5bf"
    },
    {
      "cell_type": "code",
      "execution_count": 38,
      "metadata": {},
      "outputs": [],
      "source": [
        "FALSE | FALSE | FALSE"
      ],
      "id": "89cd9d54"
    },
    {
      "cell_type": "code",
      "execution_count": 39,
      "metadata": {},
      "outputs": [],
      "source": [
        "!TRUE"
      ],
      "id": "193ad35c"
    },
    {
      "cell_type": "code",
      "execution_count": 40,
      "metadata": {},
      "outputs": [],
      "source": [
        "!FALSE"
      ],
      "id": "e6beffa8"
    },
    {
      "cell_type": "markdown",
      "metadata": {},
      "source": [
        "------------------------------------------------------------------------\n",
        "\n",
        "#### Connecting logical expressions\n",
        "\n",
        "Logical expressions can be connected via `&` and `|` (and impacted via\n",
        "`!`).\n",
        "\n",
        "-   The operators are applied elementwise to values of the vectors.\n",
        "\n",
        "------------------------------------------------------------------------\n",
        "\n",
        "#### Hands-on Practice\n",
        "\n",
        "Run the following commands in R and see what is printed. What task is\n",
        "each statement performing?\n",
        "\n",
        "Note that the parentheses `()` are used to group logical expressions to\n",
        "more easily understand what is being done. This is a good coding style\n",
        "to follow."
      ],
      "id": "01462ad0-f128-4264-89d2-fd2f043e221b"
    },
    {
      "cell_type": "code",
      "execution_count": 41,
      "metadata": {},
      "outputs": [],
      "source": [
        "(a > 6) & (a <= 10)"
      ],
      "id": "7a5f674f"
    },
    {
      "cell_type": "code",
      "execution_count": 42,
      "metadata": {},
      "outputs": [],
      "source": [
        "(a <= 4) | (a >= 12)"
      ],
      "id": "b56b9cab"
    },
    {
      "cell_type": "code",
      "execution_count": 43,
      "metadata": {},
      "outputs": [],
      "source": [
        "!((a <= 4) | (a >= 12))"
      ],
      "id": "ead95c7a"
    },
    {
      "cell_type": "markdown",
      "metadata": {},
      "source": [
        "We can pass logical expressions within the square brackets to access\n",
        "part of a data structure. This syntax will return each element of the\n",
        "object for which the expression is `TRUE`.\n",
        "\n",
        "#### Selection using logical expressions\n",
        "\n",
        "Logical expressions can be used to return parts of an object satisfying\n",
        "the appropriate criteria.\n",
        "\n",
        "-   We pass logical expressions within the square brackets to access\n",
        "    part of a data structure.\n",
        "-   This syntax will return each element of the object for which the\n",
        "    expression is `TRUE`.\n",
        "\n",
        "------------------------------------------------------------------------\n",
        "\n",
        "### Hands-on Practice\n",
        "\n",
        "Run the following commands in R and see what is printed. What task is\n",
        "each statement performing?"
      ],
      "id": "a7bd28ce-1d33-4a8a-ab70-50cb7823d7f8"
    },
    {
      "cell_type": "code",
      "execution_count": 44,
      "metadata": {},
      "outputs": [],
      "source": [
        "a[a < 6]"
      ],
      "id": "a5294ad0"
    },
    {
      "cell_type": "code",
      "execution_count": 45,
      "metadata": {},
      "outputs": [],
      "source": [
        "a[a == 10]"
      ],
      "id": "78606046"
    },
    {
      "cell_type": "code",
      "execution_count": 46,
      "metadata": {},
      "outputs": [],
      "source": [
        "a[(a < 6)|(a == 10)]"
      ],
      "id": "2c05c735"
    },
    {
      "cell_type": "markdown",
      "metadata": {},
      "source": [
        "------------------------------------------------------------------------\n",
        "\n",
        "## Helpful Functions\n",
        "\n",
        "Here is a list of helpful functions in R. We will use a hands-on example\n",
        "to convey the action a function performs.\n",
        "\n",
        "-   `length`\n",
        "-   `sum`\n",
        "-   `mean`\n",
        "-   `var`\n",
        "-   `sd`\n",
        "-   `range`\n",
        "-   `log`\n",
        "-   `summary`\n",
        "-   `str`\n",
        "\n",
        "------------------------------------------------------------------------\n",
        "\n",
        "### Hands-on Practice\n",
        "\n",
        "Run the following commands in the Console. Determine what task each\n",
        "command is performing."
      ],
      "id": "2ce5d2e3-910e-4ced-84bc-c7df5f9efaea"
    },
    {
      "cell_type": "code",
      "execution_count": 47,
      "metadata": {},
      "outputs": [],
      "source": [
        "x <- rexp(100) # sample 100 iid values from an Exponential(1) distribution"
      ],
      "id": "a476a231"
    },
    {
      "cell_type": "code",
      "execution_count": 48,
      "metadata": {},
      "outputs": [],
      "source": [
        "length(x)"
      ],
      "id": "90da596c"
    },
    {
      "cell_type": "code",
      "execution_count": 49,
      "metadata": {},
      "outputs": [],
      "source": [
        "sum(x)"
      ],
      "id": "f1c17623"
    },
    {
      "cell_type": "code",
      "execution_count": 50,
      "metadata": {},
      "outputs": [],
      "source": [
        "mean(x)"
      ],
      "id": "8f1330f6"
    },
    {
      "cell_type": "code",
      "execution_count": 51,
      "metadata": {},
      "outputs": [],
      "source": [
        "var(x)"
      ],
      "id": "d4b3f8cb"
    },
    {
      "cell_type": "code",
      "execution_count": 52,
      "metadata": {},
      "outputs": [],
      "source": [
        "sd(x)"
      ],
      "id": "bc03223d"
    },
    {
      "cell_type": "code",
      "execution_count": 53,
      "metadata": {},
      "outputs": [],
      "source": [
        "range(x)"
      ],
      "id": "d4ba51b3"
    },
    {
      "cell_type": "code",
      "execution_count": 54,
      "metadata": {},
      "outputs": [],
      "source": [
        "log(x)"
      ],
      "id": "bca7b532"
    },
    {
      "cell_type": "code",
      "execution_count": 55,
      "metadata": {},
      "outputs": [],
      "source": [
        "summary(x)"
      ],
      "id": "2e84f247"
    },
    {
      "cell_type": "code",
      "execution_count": 56,
      "metadata": {},
      "outputs": [],
      "source": [
        "str(x) # structure of x"
      ],
      "id": "2c41d8b9"
    },
    {
      "cell_type": "markdown",
      "metadata": {},
      "source": [
        "------------------------------------------------------------------------\n",
        "\n",
        "### Functions for Statistical Distributions\n",
        "\n",
        "Suppose that a random variable $X$ has the `dist` distribution. The\n",
        "function templates in the list below describe how to obtain certain\n",
        "properties of $X$.\n",
        "\n",
        "-   `p[dist](q, ...)`: returns the cdf of $X$ evaluated at `q`, i.e.,\n",
        "    $p=P(X\\leq q)$.\n",
        "-   `q[dist](p, ...)`: returns the inverse cdf (or quantile function) of\n",
        "    $X$ evaluated at $p$, i.e., $q = \\inf\\{x: P(X\\leq x) \\geq p\\}$.\n",
        "-   `d[dist](x, ...)`: returns the mass or density of $X$ evaluated at\n",
        "    $x$ (depending on whether it’s discrete or continuous).\n",
        "-   `r[dist](n, ...)`: returns an independent and identically\n",
        "    distributed random sample of size `n` having the same distribution\n",
        "    as $X$.\n",
        "-   The `...` indicates that additional arguments describing the\n",
        "    parameters of the distribution may be required.\n",
        "\n",
        "------------------------------------------------------------------------\n",
        "\n",
        "### Hands-on Practice\n",
        "\n",
        "Run the following commands in R to see the output. Before each command\n",
        "is a description of the action performed by the command.\n",
        "\n",
        "`pnorm(1.96, mean = 0, sd = 1)` returns the probability that a standard\n",
        "normal random variable is less than or equal to 1.96, i.e.,\n",
        "$P(X \\leq 1.96)$."
      ],
      "id": "8c7c07b1-5fa8-4290-9aca-694fdc941767"
    },
    {
      "cell_type": "code",
      "execution_count": 57,
      "metadata": {},
      "outputs": [],
      "source": [
        "pnorm(1.96, mean = 0, sd = 1)"
      ],
      "id": "62ddb135"
    },
    {
      "cell_type": "markdown",
      "metadata": {},
      "source": [
        "`qunif(0.6, min = 0, max = 1)` returns the value $x$ such that\n",
        "$P(X\\leq x) = 0.6$ for a uniform random variable on the interval\n",
        "$[0, 1]$."
      ],
      "id": "df73537e-70f9-4c12-bcd0-922d0196af76"
    },
    {
      "cell_type": "code",
      "execution_count": 58,
      "metadata": {},
      "outputs": [],
      "source": [
        "qunif(0.6, min = 0, max = 1)"
      ],
      "id": "c854c7e9"
    },
    {
      "cell_type": "markdown",
      "metadata": {},
      "source": [
        "`dbinom(2, size = 20, prob = .2)` returns the probability that $X$\n",
        "equals 2 when $X$ has a Binomial distribution with $n=20$ trials and the\n",
        "probability of a successful trial is $0.2$."
      ],
      "id": "abfe9494-1db3-41cd-ac83-d7788b579f08"
    },
    {
      "cell_type": "code",
      "execution_count": 59,
      "metadata": {},
      "outputs": [],
      "source": [
        "dbinom(2, size = 20, prob = .2)"
      ],
      "id": "c0b29cfc"
    },
    {
      "cell_type": "markdown",
      "metadata": {},
      "source": [
        "`dexp(1, rate = 2)` evaluates the density of an exponential random\n",
        "variable with mean = 1/2 (i.e., the reciprocal of the `rate`) at $x=1$."
      ],
      "id": "1aecc651-a3e5-4716-b4d9-55308565a7d0"
    },
    {
      "cell_type": "code",
      "execution_count": 60,
      "metadata": {},
      "outputs": [],
      "source": [
        "dexp(1, rate = 2)"
      ],
      "id": "b62727bb"
    },
    {
      "cell_type": "markdown",
      "metadata": {},
      "source": [
        "`rchisq(100, df = 5)` draws a sample of 100 observations from a\n",
        "chi-squared random variable with 5 degrees of freedom."
      ],
      "id": "1c3be0a0-4620-41df-900b-d691a67e2036"
    },
    {
      "cell_type": "code",
      "execution_count": 61,
      "metadata": {},
      "outputs": [],
      "source": [
        "rchisq(100, df = 5)"
      ],
      "id": "47e5eb56"
    },
    {
      "cell_type": "markdown",
      "metadata": {},
      "source": [
        "------------------------------------------------------------------------\n",
        "\n",
        "## Data Frames\n",
        "\n",
        "Data frames are a *fundamental* data structure used by most of R’s\n",
        "modeling software.\n",
        "\n",
        "Data frames are:\n",
        "\n",
        "-   two-dimensional data objects.\n",
        "-   each column of a data frame is a vector.\n",
        "\n",
        "### Direct creation\n",
        "\n",
        "Data frames are directly created by passing vectors into the\n",
        "`data.frame` function."
      ],
      "id": "2e12da4b-e1ee-44b0-9a2a-498aa344da8b"
    },
    {
      "cell_type": "code",
      "execution_count": 62,
      "metadata": {},
      "outputs": [],
      "source": [
        "# create basic data frame\n",
        "d <- c(1, 2, 3, 4)\n",
        "e <- c(\"red\", \"white\", \"blue\", NA)\n",
        "f <- c(TRUE, TRUE, TRUE, FALSE)\n",
        "df <- data.frame(d,e,f)\n",
        "df"
      ],
      "id": "593fa8ec"
    },
    {
      "cell_type": "markdown",
      "metadata": {},
      "source": [
        "The columns of a data frame can be renamed using the `names` function on\n",
        "the data frame."
      ],
      "id": "75941f29-78a0-4719-819d-47ff6632c001"
    },
    {
      "cell_type": "code",
      "execution_count": 63,
      "metadata": {},
      "outputs": [],
      "source": [
        "names(df) <- c(\"ID\", \"Color\", \"Passed\")\n",
        "df"
      ],
      "id": "3c519d79"
    },
    {
      "cell_type": "markdown",
      "metadata": {},
      "source": [
        "The columns of a data frame can be named when you are first creating the\n",
        "data frame by using `name =` for each vector of data."
      ],
      "id": "2c723778-7d15-4820-af99-6ebf86d932d7"
    },
    {
      "cell_type": "code",
      "execution_count": 64,
      "metadata": {},
      "outputs": [],
      "source": [
        "df2 <- data.frame(ID = d, Color = e, Passed = f)\n",
        "df2"
      ],
      "id": "9848f27e"
    },
    {
      "cell_type": "markdown",
      "metadata": {},
      "source": [
        "### Importing Data\n",
        "\n",
        "In practice, we likely want to import data from a file into R.\n",
        "\n",
        "The `read.table` function imports data in table format from file into R\n",
        "as a data frame.\n",
        "\n",
        "-   `file` is the file path and name of the file you want to import into\n",
        "    R.\n",
        "    -   If you don’t know the file path, setting `file = file.choose()`\n",
        "        will bring up a dialog box asking you to locate the file you\n",
        "        want to import.\n",
        "-   `header` specifies whether the data file has a header (variable\n",
        "    labels for each column of data in the first row of the data file).\n",
        "    -   If you don’t specify this option in R or use `header = FALSE`,\n",
        "        then R will assume the file doesn’t have any headings.\n",
        "    -   `header = TRUE` tells R to read in the data as a data frame with\n",
        "        column names taken from the first row of the data file.\n",
        "-   `sep` specifies the delimiter separating elements in the file.\n",
        "    -   If each column of data in the file is separated by a space, then\n",
        "        use `sep = \" \"`.\n",
        "    -   If each column of data in the file is separated by a comma, then\n",
        "        use `sep = \",\"`.\n",
        "    -   If each column of data in the file is separated by a tab, then\n",
        "        use `sep = \"\\t\"`.\n",
        "\n",
        "------------------------------------------------------------------------\n",
        "\n",
        "### Hands-on Practice\n",
        "\n",
        "Consider reading in a csv (comma separated file) with a header. The file\n",
        "in question contains information related to U.S. crime data in 2009."
      ],
      "id": "c557f8b5-f2d7-47bb-9e91-56ce2e0be77a"
    },
    {
      "cell_type": "code",
      "execution_count": 65,
      "metadata": {},
      "outputs": [],
      "source": [
        "path <- \"https://raw.githubusercontent.com/jfrench/api2lm/main/inst/extdata/crime2009.csv\"\n",
        "# import data as data frame\n",
        "crime2009 <- read.table(file = path, header = TRUE, sep = \",\")\n",
        "# view data structure\n",
        "str(crime2009)"
      ],
      "id": "47e195bc"
    },
    {
      "cell_type": "markdown",
      "metadata": {},
      "source": [
        "------------------------------------------------------------------------\n",
        "\n",
        "### Extracting parts of a data frame\n",
        "\n",
        "R provides many ways to extract parts of a data frame.\n",
        "\n",
        "The `mtcars` data frame has 32 observations for 11 variables."
      ],
      "id": "09308dff-a946-44a6-97b3-d9cb448890c7"
    },
    {
      "cell_type": "code",
      "execution_count": 66,
      "metadata": {},
      "outputs": [],
      "source": [
        "data(mtcars) # load data set\n",
        "str(mtcars)  # examine data structure"
      ],
      "id": "0078c2ca"
    },
    {
      "cell_type": "markdown",
      "metadata": {},
      "source": [
        "#### Direct extraction\n",
        "\n",
        "We can extract the `mpg` variable from the `mtcars` data frame using the\n",
        "`$` operator."
      ],
      "id": "f67ab0ab-3748-49a6-a8ac-12879038aad3"
    },
    {
      "cell_type": "code",
      "execution_count": 67,
      "metadata": {},
      "outputs": [],
      "source": [
        "mtcars$mpg"
      ],
      "id": "bf669f52"
    },
    {
      "cell_type": "markdown",
      "metadata": {},
      "source": [
        "Another way to extract a variable from a data frame uses a\n",
        "`df[rows, columns]` style syntax.\n",
        "\n",
        "-   `rows` and `columns` indicate the desired rows or columns.\n",
        "-   If either the `rows` or `columns` are left blank, then all `rows` or\n",
        "    `columns`, respectively, are extracted."
      ],
      "id": "57976cd7-7151-48b2-aef5-b76a15970164"
    },
    {
      "cell_type": "code",
      "execution_count": 68,
      "metadata": {},
      "outputs": [],
      "source": [
        "mtcars[,\"mpg\"]"
      ],
      "id": "1647c0c7"
    },
    {
      "cell_type": "markdown",
      "metadata": {},
      "source": [
        "To select multiple variables in a data frame, we can provide a character\n",
        "vector with multiple variable names between `[]`."
      ],
      "id": "9ebdd491-5a8b-4a6d-bf05-37a75688baab"
    },
    {
      "cell_type": "code",
      "execution_count": 69,
      "metadata": {},
      "outputs": [],
      "source": [
        "mtcars[c(\"mpg\", \"cyl\")]"
      ],
      "id": "e694cdf5"
    },
    {
      "cell_type": "markdown",
      "metadata": {},
      "source": [
        "You can also use numeric indices to directly indicate the rows or\n",
        "columns of the data frame that you would like to extract."
      ],
      "id": "332b418c-d369-49eb-bda2-4e5447766d7c"
    },
    {
      "cell_type": "code",
      "execution_count": 70,
      "metadata": {},
      "outputs": [],
      "source": [
        "mtcars[c(1, 2)]"
      ],
      "id": "07cf9268"
    },
    {
      "cell_type": "markdown",
      "metadata": {},
      "source": [
        "------------------------------------------------------------------------\n",
        "\n",
        "#### Hands-on Practice\n",
        "\n",
        "Run the following commands in the Console. Determine what task each\n",
        "command is performing."
      ],
      "id": "f63c4a91-0392-4ad8-8baa-84414ae419fa"
    },
    {
      "cell_type": "code",
      "execution_count": 71,
      "metadata": {},
      "outputs": [],
      "source": [
        "df3 <- data.frame(numbers = 1:5,\n",
        "                  characters = letters[1:5],\n",
        "                  logicals = c(TRUE, TRUE, FALSE, TRUE, FALSE))"
      ],
      "id": "5f654803"
    },
    {
      "cell_type": "code",
      "execution_count": 72,
      "metadata": {},
      "outputs": [],
      "source": [
        "df3"
      ],
      "id": "7e2d2531"
    },
    {
      "cell_type": "code",
      "execution_count": 73,
      "metadata": {},
      "outputs": [],
      "source": [
        "df3$logicals"
      ],
      "id": "63b19de1"
    },
    {
      "cell_type": "code",
      "execution_count": 74,
      "metadata": {},
      "outputs": [],
      "source": [
        "df3[1, ]"
      ],
      "id": "5b2a9b61"
    },
    {
      "cell_type": "code",
      "execution_count": 75,
      "metadata": {},
      "outputs": [],
      "source": [
        "df3[, 3]"
      ],
      "id": "bf7c2144"
    },
    {
      "cell_type": "code",
      "execution_count": 76,
      "metadata": {},
      "outputs": [],
      "source": [
        "df3[, 2:3]"
      ],
      "id": "fabd028d"
    },
    {
      "cell_type": "code",
      "execution_count": 77,
      "metadata": {},
      "outputs": [],
      "source": [
        "df3[, c(\"numbers\", \"logicals\")]"
      ],
      "id": "296be5d1"
    },
    {
      "cell_type": "code",
      "execution_count": 78,
      "metadata": {},
      "outputs": [],
      "source": [
        "df3[c(\"numbers\", \"logicals\")]"
      ],
      "id": "36302448"
    },
    {
      "cell_type": "markdown",
      "metadata": {},
      "source": [
        "------------------------------------------------------------------------\n",
        "\n",
        "#### Extraction using logical expressions\n",
        "\n",
        "Logical expressions can be used to subset a data frame.\n",
        "\n",
        "The following command creates of vector of logical values."
      ],
      "id": "b06e18a9-b884-4cbd-a0ea-7ce70eb06a54"
    },
    {
      "cell_type": "code",
      "execution_count": 79,
      "metadata": {},
      "outputs": [],
      "source": [
        "mtcars$hp > 250"
      ],
      "id": "ab0aabc7"
    },
    {
      "cell_type": "markdown",
      "metadata": {},
      "source": [
        "This vector can be used to extract rows for all of the `TRUE` values."
      ],
      "id": "5b2e2b0c-55aa-4af9-978c-a0f9eb965866"
    },
    {
      "cell_type": "code",
      "execution_count": 80,
      "metadata": {},
      "outputs": [],
      "source": [
        "# extract rows with hp > 250\n",
        "mtcars[mtcars$hp > 250,]"
      ],
      "id": "39c1c868"
    },
    {
      "cell_type": "markdown",
      "metadata": {},
      "source": [
        "We can make the logical expression more complicated."
      ],
      "id": "ddeb6b49-2747-4c54-9ec8-eef2b9ee70cc"
    },
    {
      "cell_type": "code",
      "execution_count": 81,
      "metadata": {},
      "outputs": [],
      "source": [
        "# return rows with `cyl == 8` and `mpg > 17`\n",
        "# return columns mpg, cyl, disp, hp\n",
        "mtcars[mtcars$cyl == 8 & mtcars$mpg > 17,\n",
        "       c(\"mpg\", \"cyl\", \"disp\", \"hp\")]"
      ],
      "id": "45ce3bd2"
    },
    {
      "cell_type": "markdown",
      "metadata": {},
      "source": [
        "### Extraction using the `subset` function\n",
        "\n",
        "The `subset` function returns the part of a data frame that meets the\n",
        "specified conditions.\n",
        "\n",
        "The basic usage of this function is:\n",
        "`subset(x, subset, select, drop = FALSE)`\n",
        "\n",
        "-   `x` is the object you want to subset.\n",
        "    -   `x` can be a vector, matrix, or data frame.\n",
        "-   `subset` is a logical expression that indicates the elements or rows\n",
        "    of `x` to keep (`TRUE` means keep).\n",
        "-   `select` is a vector that indicates the columns to keep.\n",
        "-   `drop` is a logical value indicating whether the data frame should\n",
        "    “drop” into a vector if only a single row or column is kept. The\n",
        "    default is `FALSE.`.\n",
        "\n",
        "### Hands-on Practice\n",
        "\n",
        "Run the following commands in the Console to use the `subset` function\n",
        "to extract parts of the `mtcars` data frame.\n",
        "\n",
        "What is each command performing?"
      ],
      "id": "0ddb2b0e-7501-4615-bc43-598910c63d4e"
    },
    {
      "cell_type": "code",
      "execution_count": 82,
      "metadata": {},
      "outputs": [],
      "source": [
        "subset(mtcars, subset = gear > 4)"
      ],
      "id": "b173be18"
    },
    {
      "cell_type": "code",
      "execution_count": 83,
      "metadata": {},
      "outputs": [],
      "source": [
        "subset(mtcars, select = c(disp, hp, gear))"
      ],
      "id": "42d9c0c0"
    },
    {
      "cell_type": "code",
      "execution_count": 84,
      "metadata": {},
      "outputs": [],
      "source": [
        "subset(mtcars, subset = gear > 4, select = c(disp, hp, gear))"
      ],
      "id": "4725f2e0"
    },
    {
      "cell_type": "markdown",
      "metadata": {},
      "source": [
        "### Modifying a Data Frame\n",
        "\n",
        "Columns can be added to a data frame using `$` and the assignment\n",
        "operator. In the example below, we add a new column, `kpg`, to the\n",
        "`mtcars` data set based on a transformatino of the `mpg` column."
      ],
      "id": "1eb742bd-0a83-415c-837f-e1828a0270bc"
    },
    {
      "cell_type": "code",
      "execution_count": 85,
      "metadata": {},
      "outputs": [],
      "source": [
        "mtcars$kpg <- mtcars$mpg*1.6\n",
        "head(mtcars)"
      ],
      "id": "1051d0e9"
    },
    {
      "cell_type": "markdown",
      "metadata": {},
      "source": [
        "## Using the pipe operator\n",
        "\n",
        "R’s native pipe operator (`|>`) allows you to “pipe” the object on the\n",
        "left side of the operator into the first argument of the function on the\n",
        "right side of the operator. The pipe operator is a convenient way to\n",
        "string together numerous steps in a string of commands.\n",
        "\n",
        "When reading code with pipes, the pipe can be thought of as the word\n",
        "“then”.\n",
        "\n",
        "In the code below, we take `mtcars` *then* subset it based on `disp` and\n",
        "*then* select some columns."
      ],
      "id": "2c2baa8b-0024-4b06-9fd1-9267c55ce17b"
    },
    {
      "cell_type": "code",
      "execution_count": 86,
      "metadata": {},
      "outputs": [],
      "source": [
        "mtcars |>\n",
        "  subset(subset = disp > 400) |>\n",
        "  subset(select = c(mpg, disp, hp))"
      ],
      "id": "da0c5562"
    },
    {
      "cell_type": "markdown",
      "metadata": {},
      "source": [
        "Here is a complicated sequence of piped commands. What do you think is\n",
        "happening?"
      ],
      "id": "f65e9aad-b9db-4cc5-ad52-1b1342c6830e"
    },
    {
      "cell_type": "code",
      "execution_count": 87,
      "metadata": {},
      "outputs": [],
      "source": [
        "# create new variable, select columns, extract first 5 rows\n",
        "mtcars |>\n",
        "  transform(lp100km = 237.5/mpg) |>\n",
        "  subset(select = c(mpg, lp100km)) |>\n",
        "  head(n = 5)"
      ],
      "id": "a9d548d2"
    }
  ],
  "nbformat": 4,
  "nbformat_minor": 5,
  "metadata": {
    "kernelspec": {
      "name": "ir",
      "display_name": "R",
      "language": "R"
    }
  }
}