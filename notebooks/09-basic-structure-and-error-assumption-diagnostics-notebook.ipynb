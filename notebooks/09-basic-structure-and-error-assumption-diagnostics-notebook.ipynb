{
  "cells": [
    {
      "cell_type": "markdown",
      "metadata": {},
      "source": [
        "# Chapter 9 - Basic structure and error assumption diagnostics\n",
        "\n",
        "Joshua French\n",
        "\n",
        "To open this information in an interactive Colab notebook, click the Open in Colab graphic below.\n",
        "\n",
        "<a href=\"https://colab.research.google.com/github/jfrench/LinearRegression/blob/master/notebooks/09-basic-structure-and-error-assumption-diagnostics-notebook.ipynb\"> <img src=\"https://colab.research.google.com/assets/colab-badge.svg\"> </a>\n",
        "\n",
        "------------------------------------------------------------------------"
      ],
      "id": "ded95e79-4fd0-4afe-b2e7-1e8ef5a5ed63"
    },
    {
      "cell_type": "code",
      "execution_count": 1,
      "metadata": {},
      "outputs": [],
      "source": [
        "if(!require(faraway, quietly = TRUE)) {\n",
        "  install.packages(\"faraway\",\n",
        "                   repos = \"https://cran.rstudio.com/\")\n",
        "}\n",
        "if(!require(KingCountyHouses, quietly = TRUE)) {\n",
        "  install.packages(\"KingCountyHouses\",\n",
        "                   repos = \"https://cran.rstudio.com/\")\n",
        "}\n",
        "if(!require(car, quietly = TRUE)) {\n",
        "  install.packages(\"car\",\n",
        "                   repos = \"https://cran.rstudio.com/\")\n",
        "  library(car)\n",
        "}\n",
        "if(!require(lmtest, quietly = TRUE)) {\n",
        "  install.packages(\"lmtest\",\n",
        "                   repos = \"https://cran.rstudio.com/\")\n",
        "  library(lmtest)\n",
        "}"
      ],
      "id": "06d48873-8bb8-4bb2-af5a-55289bd8e560"
    },
    {
      "cell_type": "markdown",
      "metadata": {},
      "source": [
        "We adjust some printing options for clarity."
      ],
      "id": "1f42b639-f521-42f6-ac71-2fddef3f3626"
    },
    {
      "cell_type": "code",
      "execution_count": 2,
      "metadata": {},
      "outputs": [],
      "source": [
        "options(digits = 7, scipen = 2)"
      ],
      "id": "8095aeea-c8a4-4831-bf4b-be54f3a7dba4"
    },
    {
      "cell_type": "markdown",
      "metadata": {},
      "source": [
        "We discuss basic, but effective approaches for assessing the validity of several of the assumptions discussed in the previous notebook.\n",
        "\n",
        "We will focus on assessing assumptions related:\n",
        "\n",
        "-   Model structure.\n",
        "-   The distribution of the errors.\n",
        "\n",
        "These assumptions tend to be checked in similar ways.\n",
        "\n",
        "# Illustration data sets\n",
        "\n",
        "To facilitate our discussion we will consider two main data sets.\n",
        "\n",
        "**The `prostate` data set**\n",
        "\n",
        "------------------------------------------------------------------------\n",
        "\n",
        "The first data set we will consider is the `prostate` data set, which is available in the **faraway** R package. The data set provides information about 97 men who were going to receive a radical prostatectomy.\n",
        "\n",
        "The `prostate` data set is a data frame has 97 rows and 9 columns. The **faraway** package provides the following descriptions of the variables:\n",
        "\n",
        "-   `lcavol`: log(cancer volume).\n",
        "-   `lweight`: log(prostate weight).\n",
        "-   `age`: age in years.\n",
        "-   `lbph`: log(benign prostatic hyperplasia amount).\n",
        "-   `svi`: seminal vesicle invasion.\n",
        "-   `lcp`: log(capsular penetration).\n",
        "-   `gleason`: Gleason score.\n",
        "-   `pgg45`: percentage Gleason scores 4 or 5.\n",
        "-   `lpsa`: log(prostate specific antigen).\n",
        "\n",
        "We load this data set."
      ],
      "id": "d88c2741-8de0-4e07-ad04-9154887e4037"
    },
    {
      "cell_type": "code",
      "execution_count": 3,
      "metadata": {},
      "outputs": [],
      "source": [
        "data(prostate, package = \"faraway\")"
      ],
      "id": "d3f8b8d6-f0d4-4d8a-8278-9cdd811edfdc"
    },
    {
      "cell_type": "markdown",
      "metadata": {},
      "source": [
        "The `svi` variable is a factor, so we convert it to a factor with appropriate levels."
      ],
      "id": "37da66dd-be9a-40f3-8c7d-43954db940ba"
    },
    {
      "cell_type": "code",
      "execution_count": 4,
      "metadata": {},
      "outputs": [],
      "source": [
        "prostate$svi <- factor(prostate$svi,\n",
        "                       labels = c(\"non-invasive\", \"invasive\"))"
      ],
      "id": "828b6eb4-e1fa-469c-a7cd-4a786bd280de"
    },
    {
      "cell_type": "markdown",
      "metadata": {},
      "source": [
        "**The `home_prices` data set**\n",
        "\n",
        "------------------------------------------------------------------------\n",
        "\n",
        "We will also use the `home_prices` data set from the **KingCountyHouses** package.\n",
        "\n",
        "The `home_prices` data set contains the sales prices of homes sold in King County, WA between 2014-05-02 and 2015-05-27. The data set is a data frame (tibble) with 21,613 rows and 19 columns. A subset of the relevant variables includes:\n",
        "\n",
        "-   `date_sold`: date of sale.\n",
        "-   `price`: sale price (log10 units).\n",
        "-   `bedrooms`: number of bedrooms.\n",
        "-   `bathrooms`: number of bathrooms.\n",
        "-   `sqft_living`: size of living space.\n",
        "-   `sqft_lot`: size of property.\n",
        "-   `floors`: number of floors.\n",
        "-   `waterfront`: indicator variable for a waterfront view.\n",
        "-   `view`: a numeric rating of the quality of the home’s view.\n",
        "-   `condition`: a factor variable indicating the condition of the house (poor to very good).\n",
        "-   `sqft_above`: size of living space above ground.\n",
        "-   `sqft_basement` (numeric):size of living space below ground.\n",
        "-   `yr_built`: year the home was built.\n",
        "-   `year_renovated`: the year renovated and, if not renovated, the year built.\n",
        "-   `zip_code`: the zip code of the home.\n",
        "\n",
        "We load the data below."
      ],
      "id": "30eb1f83-73cb-4f52-a782-d4887ad8476e"
    },
    {
      "cell_type": "code",
      "execution_count": 5,
      "metadata": {},
      "outputs": [],
      "source": [
        "data(home_prices, package = \"KingCountyHouses\")"
      ],
      "id": "6c396212-f5e4-4b87-ab4a-b5f99def1a78"
    },
    {
      "cell_type": "markdown",
      "metadata": {},
      "source": [
        "We do not wish to work with all of the variables for practical reasons, so we keep only the first 13 variables of the data frame."
      ],
      "id": "3551c115-6982-4448-b632-c5c31a993e8e"
    },
    {
      "cell_type": "code",
      "execution_count": 6,
      "metadata": {},
      "outputs": [],
      "source": [
        "home_prices <- home_prices[, 1:13]"
      ],
      "id": "6c28137a-53e8-448a-b627-6c77d6b3dfdf"
    },
    {
      "cell_type": "markdown",
      "metadata": {},
      "source": [
        "We will also remove the `sqft_basement` variable because the `sqrt_above` and `sqft_basement` variables sum to equal `sqft_living`, so we will have an issue with collinearity if we don’t remove one of the variables."
      ],
      "id": "1c4523a6-17a3-4fa1-8035-73987af2891c"
    },
    {
      "cell_type": "code",
      "execution_count": 7,
      "metadata": {},
      "outputs": [],
      "source": [
        "home_prices <- home_prices[, -12]"
      ],
      "id": "27dd44e0-eeed-4620-998e-ddd269601970"
    },
    {
      "cell_type": "markdown",
      "metadata": {},
      "source": [
        "Lastly, we remove the `date_sold` variable from `home_prices` since it isn’t in a particularly useful format to use as a regressor in our model."
      ],
      "id": "d516113b-8564-4570-9c6b-db44e2adcbf7"
    },
    {
      "cell_type": "code",
      "execution_count": 8,
      "metadata": {},
      "outputs": [],
      "source": [
        "home_prices <- home_prices[, -1]"
      ],
      "id": "d9725230-a9e7-45d2-84bc-269ab91ecfbe"
    },
    {
      "cell_type": "markdown",
      "metadata": {},
      "source": [
        "**Initial fitted models**\n",
        "\n",
        "------------------------------------------------------------------------\n",
        "\n",
        "The validity of our assumptions depend on the model fit to the data.\n",
        "\n",
        "For the prostate data we will regress `lpsa` on all the remaining variables in the `prostate` data frame.\n",
        "\n",
        "-   A shortcut for this is to use the formula `y ~ .`, where `y` is the response and `.` indicates to use all of the variables in the data frame containing `y`."
      ],
      "id": "703f9094-e38d-479a-80d1-abd64ac2f92c"
    },
    {
      "cell_type": "code",
      "execution_count": 9,
      "metadata": {},
      "outputs": [],
      "source": [
        "lmod_prostate <- lm(lpsa ~ ., data = prostate)\n",
        "coef(lmod_prostate)"
      ],
      "id": "503df802-4804-4c63-beee-2dc7ecb306d9"
    },
    {
      "cell_type": "markdown",
      "metadata": {},
      "source": [
        "Similarly, for the `home_prices` data set, we will regress the `price` variable on all of the remaining variables in `home_prices`."
      ],
      "id": "b65c18fe-c8a4-496a-9e76-2f2250b5143d"
    },
    {
      "cell_type": "code",
      "execution_count": 10,
      "metadata": {},
      "outputs": [],
      "source": [
        "lmod_homes <- lm(price ~ ., data = home_prices)\n",
        "coef(lmod_homes)"
      ],
      "id": "ce97cabf-0dbe-4612-b042-0f8bc555d4a8"
    },
    {
      "cell_type": "markdown",
      "metadata": {},
      "source": [
        "# Checking structure\n",
        "\n",
        "As mentioned in the previous chapter, the most important assumption we make for our linear models is that the model structure is correct.\n",
        "\n",
        "Technically, this assumption is impossible to verify.\n",
        "\n",
        "-   Instead, we can verify that the model does an adequate job of approximating the behavior of the observed data.\n",
        "-   If the model is unable to mimick the behavior of the observed data, then we can say this this assumption is violated.\n",
        "\n",
        "**Residual plot**\n",
        "\n",
        "------------------------------------------------------------------------\n",
        "\n",
        "The most basic approach for assessing whether the structural assumption is satisfied uses a plot of the residuals versus fitted values.\n",
        "\n",
        "-   This assumption is satisfied (technically, not violated) if the residuals appear to be randomly and symmetrically scattered around a horizontal line running through 0 on the y-axis.\n",
        "-   This assumption is violated if the residuals appear to have a mean different from zero for certain fitted values because one of our assumptions is that the errors have mean 0 for any combination of regressors.\n",
        "    -   A violation will often appear as a systematic trend or curve in the residual plot.\n",
        "    -   In general, for certain contiguous subsets of the fitted values most of the residuals are positive and for other contiguous subsets of the fitted values most of the residuals are negative.\n",
        "\n",
        "Consider the residual plot below."
      ],
      "id": "bbc208b6-0a1d-4fb6-bab6-d28fee8b2d2e"
    },
    {
      "cell_type": "code",
      "execution_count": 11,
      "metadata": {},
      "outputs": [
        {
          "output_type": "display_data",
          "metadata": {},
          "data": {
            "image/png": "[encoded data removed]"
          }
        }
      ],
      "source": [],
      "id": "7753dde4-34b4-470a-abaa-4ef5c03f7fc3"
    },
    {
      "cell_type": "markdown",
      "metadata": {},
      "source": [
        "The residual plot above is consistent with an appropriate model structure.\n",
        "\n",
        "-   The residuals are randomly scattered and symmetric around the horizontal line running through the y-axis at 0.\n",
        "-   A moving average of the residuals appears to be close to 0 as we move from left to right along the x-axis.\n",
        "\n",
        "A different residual plot is shown below."
      ],
      "id": "43d38005-55d5-4638-8fd7-ae910688f016"
    },
    {
      "cell_type": "code",
      "execution_count": 12,
      "metadata": {},
      "outputs": [
        {
          "output_type": "display_data",
          "metadata": {},
          "data": {
            "image/png": "[encoded data removed]"
          }
        }
      ],
      "source": [],
      "id": "256bdc1c-f26d-45d2-86e3-aea5c118e240"
    },
    {
      "cell_type": "markdown",
      "metadata": {},
      "source": [
        "The plot above shows evidence of a structural problem.\n",
        "\n",
        "-   The data systematically curve as we move from left to right along the x-axis.\n",
        "-   The mean of the residuals is clearly positive when the fitted values are less than 2.5, negative between 2.5 and 5.75, and positive for fitted values greater than 5.75.\n",
        "-   In this particular example, we are missing a needed quadratic regressor in our model.\n",
        "\n",
        "**Intuition behind the residual plot**\n",
        "\n",
        "------------------------------------------------------------------------\n",
        "\n",
        "Why does the residual plot approach work for assessing a structural problem in our fitted model?\n",
        "\n",
        "-   We assume that the errors have mean zero for any combination of our predictors.\n",
        "-   If our fitted model adequately captures the mean of the data, then the residuals will have the same property.\n",
        "-   We expect our residuals to randomly fluctuate above and below 0 with no systematic pattern related to a specific combination of regressors.\n",
        "\n",
        "Note: assessing whether the structure of the model is correct is difficult to separate from assessing the validity of the assumption that the mean of the errors is zero.\n",
        "\n",
        "-   Even if the errors didn’t have mean zero (but the model was correct), then our regression model would be non-identifiable because we wouldn’t be able to separate the mean of the errors from the mean of the other components of the model.\n",
        "\n",
        "A related approach for assessing the validity of the structural assumption is to examine plots of the residuals versus each predictor.\n",
        "\n",
        "-   The structural assumption isn’t violated as long as the residuals appear to be randomly and symmetrically scattered around a horizontal line running through 0 on the y-axis .\n",
        "\n",
        "**Structural check for `prostate` data**\n",
        "\n",
        "------------------------------------------------------------------------\n",
        "\n",
        "We examine a plot of the residuals versus fitted values for the model fitted to the `prostate` data.\n",
        "\n",
        "The `residualPlot` function in the **car** package is a convenient way of producing a plot of the residuals versus fitted values for a fitted model.\n",
        "\n",
        "The `residualPlot` function is a complex function, so we set `quadratic = FALSE` to get a simple plot."
      ],
      "id": "ce1c568a-d618-4ee6-9e66-73e0c1acab17"
    },
    {
      "cell_type": "code",
      "execution_count": 13,
      "metadata": {},
      "outputs": [],
      "source": [
        "residualPlot(lmod_prostate, quadratic = FALSE)"
      ],
      "id": "8509d2a8-4fff-4eb3-ad40-ff225ee15829"
    },
    {
      "cell_type": "markdown",
      "metadata": {},
      "source": [
        "The points appear to be randomly scattered above and below 0 as we move from left to right across the x-axis. There is no clear violate of the structural assumption.\n",
        "\n",
        "The `residualsPlots` function in the **car** package will produce plots of the residuals versus each first-order predictor and the fitted values.\n",
        "\n",
        "-   Setting `tests = FALSE` and `quadratic = FALSE` simplifies the output produced by the function.\n",
        "-   Setting `fitted = FALSE` prevents the function from displaying a plot of the residuals versus fitted values.\n",
        "\n",
        "We examine the residual plots for the model fit to the `prostate` data below. Because there would be 9 plots by default, we select only 4 of the predictors to simplify our display."
      ],
      "id": "f17b2648-a2bf-481b-b39f-2ee299d09bc2"
    },
    {
      "cell_type": "code",
      "execution_count": 14,
      "metadata": {},
      "outputs": [],
      "source": [
        "residualPlots(lmod_prostate, \n",
        "              terms = ~ lcavol + age + svi + gleason,\n",
        "              tests = FALSE, quadratic = FALSE, fitted = FALSE)"
      ],
      "id": "561b95a3-bfce-492a-9426-301dbdc81168"
    },
    {
      "cell_type": "markdown",
      "metadata": {},
      "source": [
        "The residual plots associated with `lcavol` and `age` look relatively symmetric around 0 with no clear patterns.\n",
        "\n",
        "For a categorical predictor like `svi`, we want the box plot of the residuals to be symmetric around zero, which is what we see for this data. There is no evidence of a structural problem.\n",
        "\n",
        "Looking at the residual plot for the `gleason` predictor, the residual values tend to be lower for larger values of `gleason`.\n",
        "\n",
        "-   This may be something to explore further.\n",
        "-   There are relatively few observations with high `gleason` values, so it is difficult to draw a definitive conclusion. This is not clear evidence of a structural problem.\n",
        "\n",
        "**Structural check for `home_prices` data**\n",
        "\n",
        "------------------------------------------------------------------------\n",
        "\n",
        "We now examine a plot of the residuals versus fitted values for the `home_prices` data."
      ],
      "id": "199da15e-c14e-4052-813d-e637ac6b68f3"
    },
    {
      "cell_type": "code",
      "execution_count": 15,
      "metadata": {},
      "outputs": [],
      "source": [
        "residualPlot(lmod_homes, quadratic = FALSE)"
      ],
      "id": "89b92bbc-9bb3-47d1-bada-f64e20830e80"
    },
    {
      "cell_type": "markdown",
      "metadata": {},
      "source": [
        "There are many more points in this plot compared to the residual plot for the `prostate` data, making it a bit more difficult to assess this assumption.\n",
        "\n",
        "The bulk of the data between the fitted values 5.25 and 6.25 is approximately symmetric around zero (as far as we can tell).\n",
        "\n",
        "There is one unusual point in the upper left part of the plot.\n",
        "\n",
        "-   This is an *outlier*.\n",
        "-   Since this is only a single unusual point in a data set with many observations, this is not something to be concerned about.\n",
        "\n",
        "However, the residuals begin to systematically fall below 0 when the fitted values are above 6.25.\n",
        "\n",
        "-   This is an indication that we have a structural deficiency in our fitted model that should be addressed.\n",
        "\n",
        "# Checking constant variance\n",
        "\n",
        "Another key assumption is that the variance of the errors is constant for all combinations of regressor values.\n",
        "\n",
        "Similar to the check of structure, we can check this assumption through residual plots.\n",
        "\n",
        "However, it is important to note that even if the errors have constant variance, the residuals do not.\n",
        "\n",
        "Even if the variance of the errors is constant,\n",
        "\n",
        "$$\\mathrm{var}(\\hat{\\epsilon}_i) = \\sigma^2(1-h_i), \\quad i = 1,2,\\ldots,n,$$\n",
        "\n",
        "where $h_i=\\mathbf{H}_{i,i}$ is $i$th diagonal element of the hat matrix $\\mathbf{H}=\\mathbf{X}(\\mathbf{X}^T\\mathbf{X})^{-1}\\mathbf{X}^T$.\n",
        "\n",
        "It is recommended that instead of assessing the validity of this assumption with the ordinary residuals, $\\hat{\\epsilon}_1, \\ldots, \\hat{\\epsilon}_n$, we instead use the *standardized residuals* given by the equation\n",
        "\n",
        "$$r_i = \\frac{\\hat{\\epsilon}_i}{\\hat{\\sigma}\\sqrt{1-h_i}}, \\quad i=1,2,\\ldots,n.$$\n",
        "\n",
        "Under the standard assumptions, the standardized residuals have mean 0 and variance 1.\n",
        "\n",
        "**Standardized residual plot**\n",
        "\n",
        "------------------------------------------------------------------------\n",
        "\n",
        "The constant error variance assumption can be assessed using plots of the standardized residuals versus the fitted values or predictors.\n",
        "\n",
        "-   If the constant error variance assumption is satisfied, then the points of these plots should have constant thickness, symmetric about 0 as we move from left to right along the x-axis.\n",
        "\n",
        "Consider the 4 plots below:\n",
        "\n",
        "-   Panel (a) shows data that perfectly satisfy this assumption. However, the plot itself doesn’t have perfect constant thickness as we move from left to right along the axis.\n",
        "-   Panel (b) shows data with increasing variability as we move from left to right across the x-axis. This is difficult to see in the plot because the variability increases but then appears to decease.\n",
        "-   Panel (c) shows data that has slightly decreasing variability as we move from left to right along the x-axis. However, this is difficult to see in the plot..\n",
        "-   Panel (d) shows data that has a structural issue (notice the curve in the data compared to the 0-line) while the points also increase in variability as we move from left to right along the x-axis."
      ],
      "id": "b1cdf9ab-e8a7-402a-9db2-d7e5a5899ef0"
    },
    {
      "cell_type": "code",
      "execution_count": 16,
      "metadata": {},
      "outputs": [
        {
          "output_type": "display_data",
          "metadata": {},
          "data": {
            "image/png": "[encoded data removed]"
          }
        }
      ],
      "source": [],
      "id": "de75a6b0-0d72-4a90-9023-55eb3b5c31d8"
    },
    {
      "cell_type": "markdown",
      "metadata": {},
      "source": [
        "What should we do if the plots are inconclusive?\n",
        "\n",
        "-   We don’t conclude an assumption is violated unless the violation is clear.\n",
        "-   Try to use a different method.\n",
        "\n",
        "**Scale-location plot**\n",
        "\n",
        "------------------------------------------------------------------------\n",
        "\n",
        "A scale-location plot can be used to assess whether the variance is constant when the standardized residual plot is inconclusive AND the structural assumption doesn’t appear to be violated.\n",
        "\n",
        "A *scale-location* plot is a plot of $\\sqrt{|\\hat{\\boldsymbol{\\epsilon}}|}$) versus $\\hat{\\mathbf{y}}$, i.e., a plot of the square root of the absolute value of the residuals versus the fitted values.\n",
        "\n",
        "-   If the constant error variance assumption is satisfied (i.e., not clearly violated), then the points of this plot should should have constant thickness as we move from left to right along the x-axis.\n",
        "\n",
        "Recall that in panel (c) of the previous plot that we thought there was a slight decrease in the variability of the residuals as we moved from left-to-right across the x-axis.\n",
        "\n",
        "We produce a scale-location plot for panel (c) above.\n",
        "\n",
        "-   The red line is a visual indication of how the variability changes from left to right and should be approximately flat if this assumption is not violated.\n",
        "-   The red line clearly decreases in our plot indicating a violation of the constant error variance assumption."
      ],
      "id": "4050fa60-ddd8-4c38-ba63-46348bae80c9"
    },
    {
      "cell_type": "code",
      "execution_count": 17,
      "metadata": {},
      "outputs": [
        {
          "output_type": "display_data",
          "metadata": {},
          "data": {
            "image/png": "[encoded data removed]"
          }
        }
      ],
      "source": [],
      "id": "16ded66f-7cdd-4473-a2d0-d08c1ed77fe9"
    },
    {
      "cell_type": "markdown",
      "metadata": {},
      "source": [
        "**Constant variance check for `prostate` data**\n",
        "\n",
        "We now assess the validity of the constant error variance assumption for the `prostate` data.\n",
        "\n",
        "The `residualPlot` function from the **car** package can be used to construct a plot of the standardized residuals versus the fitted values.\n",
        "\n",
        "-   Set `type = \"rstandard\"`.\n",
        "\n",
        "We produce a standardized residual plot for the model fitted to the `prostate` data."
      ],
      "id": "f628c237-ac34-4fe6-9e61-f7d5c5ea3fc9"
    },
    {
      "cell_type": "code",
      "execution_count": 18,
      "metadata": {},
      "outputs": [],
      "source": [
        "residualPlot(lmod_prostate, type = \"rstandard\", quadratic = FALSE)"
      ],
      "id": "c7dc3dee-f6fc-4a16-91ff-aa3bef0a9635"
    },
    {
      "cell_type": "markdown",
      "metadata": {},
      "source": [
        "The plot of the standardized residuals versus the fitted values has almost perfectly constant thickness as we move from left to right along the x-axis, so there is no indication of a non-constant error variance issue for our fitted model.\n",
        "\n",
        "We can produce plots of the standardized residuals versus the predictors using the `residualPlots` function.\n",
        "\n",
        "-   We must specify `type == \"rstandard\"`.\n",
        "\n",
        "There is no indication of a violation of the constant error variance assumption in the plots below."
      ],
      "id": "97ba3eb9-e0f2-45a5-b765-49a754a75f7e"
    },
    {
      "cell_type": "code",
      "execution_count": 19,
      "metadata": {},
      "outputs": [],
      "source": [
        "residualPlots(lmod_prostate, type = \"rstandard\",\n",
        "              terms = ~ lcavol + age + svi + pgg45,\n",
        "              tests = FALSE, quadratic = FALSE, fitted = FALSE)"
      ],
      "id": "cceb6627-1e98-484a-8280-bec1f35443e5"
    },
    {
      "cell_type": "markdown",
      "metadata": {},
      "source": [
        "**Constant variance check for `home_prices` data**\n",
        "\n",
        "We now assess the validity of the constant error variance assumption for the `home_prices` data.\n",
        "\n",
        "Our standardized residual plot seems to show clear evidence that the variability tends to decrease as we move from left to right along the x-axis."
      ],
      "id": "f4037684-35d0-4fe2-9eef-66e5697bbb59"
    },
    {
      "cell_type": "code",
      "execution_count": 20,
      "metadata": {},
      "outputs": [],
      "source": [
        "residualPlot(lmod_homes, type = \"rstandard\", quadratic = FALSE)"
      ],
      "id": "c497bc26-c2b1-46ea-9963-8d926ba1b12f"
    },
    {
      "cell_type": "markdown",
      "metadata": {},
      "source": [
        "The verify our belief, we can look at a scale-location plot for the fitted model\n",
        "\n",
        "The `plot` function can be used to produce a scale-location plot.\n",
        "\n",
        "-   The `plot` function has a method for `lm` objects.\n",
        "-   Setting the `which` argument to 3 will produce a scale-location plot.\n",
        "\n",
        "We produce a scale-location plot of the fitted model for `home_prices`."
      ],
      "id": "c8c6df53-b390-4796-99c9-0180aae78950"
    },
    {
      "cell_type": "code",
      "execution_count": 21,
      "metadata": {},
      "outputs": [],
      "source": [
        "plot(lmod_homes, which = 3)"
      ],
      "id": "5c19b075-1b82-4a25-8e0f-5759de74e94c"
    },
    {
      "cell_type": "markdown",
      "metadata": {},
      "source": [
        "The red line shows that the variability decreases as we move from left to right. It then appears to increase, but this is an artifact of the model having a structural deficiency for larger fitted values.\n",
        "\n",
        "Focusing on the fitted values less than 6.25, we do see the absolute value of the standardized residuals tend to decrease as we move from left to right.\n",
        "\n",
        "# Checking normality\n",
        "\n",
        "A key assumption of many of our tests and confidence intervals is that the errors are normally distributed.\n",
        "\n",
        "We have previously shown that if our errors are normal that our residuals are also normal.\n",
        "\n",
        "-   If our errors have mean zero, then the residuals also have mean zero.\n",
        "\n",
        "**The Q-q plot**\n",
        "\n",
        "------------------------------------------------------------------------\n",
        "\n",
        "To assess whether the assumption of normally-distributed errors is reasonable, we will compare the residuals to the quantiles we would expect to get from the same number of i.i.d. normally-distributed observations with mean 0 and variance 1.\n",
        "\n",
        "-   If the normality assumption is satisfied, then a a plot of the observed values compared to the theoretical quantiles will fall approximately in a straight line.\n",
        "-   This plot is called a quantile-quantile or *q-q plot*.\n",
        "\n",
        "The `qqnorm` function can be used to create a q-q plot of data we believe to come from a normal distribution.\n",
        "\n",
        "We provide an example below of a q-q plot for normally-distributed data with a mean of 0 and a variance of 1.\n",
        "\n",
        "-   We can use the `qqline` function to add a reference line to see how closely the points fall to a straight line."
      ],
      "id": "1d83b841-f4da-4f9f-81a0-7523f417e2bb"
    },
    {
      "cell_type": "code",
      "execution_count": 22,
      "metadata": {},
      "outputs": [],
      "source": [
        "set.seed(19)\n",
        "e <- rnorm(30)\n",
        "qqnorm(e)\n",
        "qqline(e)"
      ],
      "id": "1956d3e6-d006-4813-a401-bfbde68aa83c"
    },
    {
      "cell_type": "markdown",
      "metadata": {},
      "source": [
        "The points of the q-q plot fall fairly close to a straight line, which is what we expect when the sample observations are a sample from a normal distribution.\n",
        "\n",
        "There tends to be more variability in the tails of a q-q plot (i.e., for the smallest and largest quantiles) so those points tend to fall a little farther from a straight line.\n",
        "\n",
        "Observations that deviate substantially from normality will result in a q-q plot that doesn’t look like a straight line of points.\n",
        "\n",
        "Consider a q-q plot of data sampled from a chi-square distribution with 5 degrees of freedom.\n",
        "\n",
        "-   This distribution is positively skewed.\n",
        "-   The points of the q-q plot do not fall that closely to a straight line."
      ],
      "id": "7e3d3715-ec60-405e-99fa-507b41d9809c"
    },
    {
      "cell_type": "code",
      "execution_count": 23,
      "metadata": {},
      "outputs": [],
      "source": [
        "set.seed(22)\n",
        "e2 <- rchisq(30, 5)\n",
        "qqnorm(e2)\n",
        "qqline(e2)"
      ],
      "id": "14c7e64e-d7b7-4c6f-b826-f8acc600af32"
    },
    {
      "cell_type": "markdown",
      "metadata": {},
      "source": [
        "Q-q plots are generally constructed under the assumption that the data are independent and identically distributed.\n",
        "\n",
        "-   Ordinary residuals do not have constant variance.\n",
        "\n",
        "-   We should scale the residuals to have constant variance prior to constructing a q-q plot.\n",
        "\n",
        "-   Though the residuals are not independent, the correlation is typically weak and can be ignored when constructing a q-q plot.\n",
        "\n",
        "The standardized residuals are one form of scaled residuals with variance equal to 1.\n",
        "\n",
        "The studentized residuals are another form of residuals scaled to have a variance of 1.\n",
        "\n",
        "-   The denominator uses a different estimate of the error variance, $\\sigma^2$, than the standardized residuals. We do not discuss those details here.\n",
        "-   The studentized residuals should be have a $t$ distribution with $n-p-1$ degrees of freedom under the standard assumptions, assuming our model has $p$ estimated regression coefficients.\n",
        "\n",
        "Standardized or studentized residuals should be used to assess the normality assumption.\n",
        "\n",
        "The `qqPlot` function in the **car** packages produced q-q plots of the studentized residuals.\n",
        "\n",
        "**The Shapiro-Wilk test**\n",
        "\n",
        "------------------------------------------------------------------------\n",
        "\n",
        "Another approach to assess normality is the Shapiro-Wilk test (Shapiro and Wilk, 1965).\n",
        "\n",
        "The null hypothesis for this test is that the data are a random sample from a normal distribution.\n",
        "\n",
        "The alternative hypothesis is that the data are not a random sample from a normal distribution.\n",
        "\n",
        "The test statistic is a complicated function of order statistics, and is not directly needed for our purposes, so we do not provide its formula.\n",
        "\n",
        "If the p-value of the test is less then the desired significance level, then we conclude that the data are not a random sample from a normal distribution. Otherwise, we fail to reject the null hypothesis that the data are a random sample from a normal distribution.\n",
        "\n",
        "The Shapiro-Wilk test can be applied to a vector of data using the `shapiro.test` function.\n",
        "\n",
        "**Normality check for `prostate` data**\n",
        "\n",
        "------------------------------------------------------------------------\n",
        "\n",
        "We now use the `qqPlot` function to create a q-q plot of the studentized residuals for the model fitted to the prostate data."
      ],
      "id": "83058e00-c0c9-4633-875e-86011d20d7a3"
    },
    {
      "cell_type": "code",
      "execution_count": 24,
      "metadata": {},
      "outputs": [],
      "source": [
        "qqPlot(lmod_prostate)"
      ],
      "id": "74a2f8b8-0bef-499f-a178-98d4ac1ecf54"
    },
    {
      "cell_type": "markdown",
      "metadata": {},
      "source": [
        "The points of the q-q plot fall close to a straight line, so the assumption of normally-distributed errors appears to be reasonable assumption for the fitted model.\n",
        "\n",
        "The `qqPlot` function also produces pointwise 95% confidence envelopes for the quantiles, giving us an idea of how much the points can deviate from a straight line without the assumption being violated.\n",
        "\n",
        "-   The envelopes are pointwise, which means they don’t adjust for multiple comparisons.\n",
        "\n",
        "To help confirm our belief, we apply the Shapiro-Wilk test to the standardized residuals of our fitted model.\n",
        "\n",
        "-   We use the `rstandard` function to extract the standardized residuals from our fitted model."
      ],
      "id": "c90bc241-4bd8-4519-9da8-9003fb230f5e"
    },
    {
      "cell_type": "code",
      "execution_count": 25,
      "metadata": {},
      "outputs": [],
      "source": [
        "shapiro.test(rstandard(lmod_prostate))"
      ],
      "id": "0b652d50-e4d7-412d-8dad-07f4c2413522"
    },
    {
      "cell_type": "markdown",
      "metadata": {},
      "source": [
        "Since our p-value is large, we believe our residuals (and by proxy, our errors) are a sample from a normal distribution.\n",
        "\n",
        "**Normality check for `home_prices` data**\n",
        "\n",
        "------------------------------------------------------------------------\n",
        "\n",
        "We start with a q-q plot of the studentized residuals of the fitted model for the `home_prices` data."
      ],
      "id": "207755b3-8ebe-43c3-9f9d-a6d1d96cb6ef"
    },
    {
      "cell_type": "code",
      "execution_count": 26,
      "metadata": {},
      "outputs": [],
      "source": [
        "qqPlot(lmod_homes)"
      ],
      "id": "44b218ef-a7b3-4a63-adf2-d3ca6becdc35"
    },
    {
      "cell_type": "markdown",
      "metadata": {},
      "source": [
        "There are so many points in our plot that it is difficult to assess the central part of the plot. However, it is clear that the tails of the q-q plot deviate from a straight line.\n",
        "\n",
        "-   The normal error assumption appears to be violated for our fitted model.\n",
        "\n",
        "We could confirm our beliefs using the Shapiro-Wilk test, but the R function takes a maximum of 5000 observations, and we have over 20,000 residuals.\n",
        "\n",
        "Even though the normal error assumption appears to be violated for our fitted model, this may not be an issue in practice.\n",
        "\n",
        "-   The Central Limit Theorem applies to our estimated coefficients, so our confidence and hypothesis test should still be approximately valid.\n",
        "-   Our prediction intervals are very sensitive to the normality assumption, so that type of inference should not be trusted in this setting.\n",
        "\n",
        "# Checking for correlated errors\n",
        "\n",
        "Our errors are supposed to be uncorrelated.\n",
        "\n",
        "This assumption is impractical to check unless our data are time series or longitudinal data (observations observed over a series of time) or spatial data (the observations are associated with a specific geographic location).\n",
        "\n",
        "-   We will examine how to assess this assumption for time series data.\n",
        "\n",
        "If the data are not time series or spatial data then we don’t need to bother checking this assumption.\n",
        "\n",
        "If the errors $\\boldsymbol\\epsilon$ are uncorrelated, then the residuals $\\hat{\\boldsymbol\\epsilon}$ are typically close to uncorrelated, so we will use them as a proxy to assess the validity of this assumption.\n",
        "\n",
        "We will illustrate checking this assumption using a classic data set provided by Box et al. (1975) of the monthly total of international airline passengers in thousands from 1949 to 1960. The data are available in the `AirPassengers` data set in the **datasets** package.\n",
        "\n",
        "We first convert the data to a more usable form for our purposes. We will let month 1 be January of 1949 and month 144 be December of 1960 (the 12th month of the 12th year)"
      ],
      "id": "0851a508-1a99-4ba1-a9ea-a0b4c77b5ba7"
    },
    {
      "cell_type": "code",
      "execution_count": 27,
      "metadata": {},
      "outputs": [],
      "source": [
        "air <- data.frame(month = 1:144, passengers = c(AirPassengers))"
      ],
      "id": "e1df6108-3f7b-4661-9acb-0c9e411c2481"
    },
    {
      "cell_type": "markdown",
      "metadata": {},
      "source": [
        "We begin by creating a scatter plot of the passenger totals versus the month."
      ],
      "id": "5f8a24bf-d4b1-4ccd-8d0b-df808588d9d1"
    },
    {
      "cell_type": "code",
      "execution_count": 28,
      "metadata": {},
      "outputs": [],
      "source": [
        "plot(passengers ~ month, data = air)"
      ],
      "id": "a3877463-c3fc-4245-a894-faee0bfffd58"
    },
    {
      "cell_type": "markdown",
      "metadata": {},
      "source": [
        "The passenger totals are clearly increasing over time and also increasing in variability.\n",
        "\n",
        "We take the `log` of `passengers` to correct for the increasing variability of that variable over time.\n",
        "\n",
        "-   The transformed data doesn’t appear to have the same issue."
      ],
      "id": "374827c3-16cc-47c0-978f-1490f777034a"
    },
    {
      "cell_type": "code",
      "execution_count": 29,
      "metadata": {},
      "outputs": [],
      "source": [
        "plot(log(passengers) ~ month, data = air)"
      ],
      "id": "d2628ff5-3eb8-4107-8366-4d918ac83fcf"
    },
    {
      "cell_type": "markdown",
      "metadata": {},
      "source": [
        "We will regress `log(passengers)` on `month` and then discuss diagnostics to assess whether the residuals are temporally correlated."
      ],
      "id": "16f79cbf-1329-4cac-928e-8b5bc8b98cb2"
    },
    {
      "cell_type": "code",
      "execution_count": 30,
      "metadata": {},
      "outputs": [],
      "source": [
        "lmod_air <- lm(log(passengers) ~ month, data = air)"
      ],
      "id": "9ba91ed2-df4f-4ba1-aaa2-d678425b0da4"
    },
    {
      "cell_type": "markdown",
      "metadata": {},
      "source": [
        "**Residuals versus time plot**\n",
        "\n",
        "------------------------------------------------------------------------\n",
        "\n",
        "The easiest way to check for correlated residuals in time series data is to plot the residuals versus the time variable.\n",
        "\n",
        "-   If the residuals tend to cluster with sequences of positive or negative residuals, then the data have a positive correlation.\n",
        "\n",
        "We create a scatter plot of the residuals versus month for the model fitted to the passengers data.\n",
        "\n",
        "-   We add a horizontal reference line at $y = 0$."
      ],
      "id": "56eaa4ff-4c9c-4e7a-ba14-716a4146c7f6"
    },
    {
      "cell_type": "code",
      "execution_count": 31,
      "metadata": {},
      "outputs": [],
      "source": [
        "plot(residuals(lmod_air) ~ month, data = air,\n",
        "     ylab = \"residuals\")\n",
        "abline(0, 0)"
      ],
      "id": "25533ad6-7093-46bd-8c9a-50f25c6e55bf"
    },
    {
      "cell_type": "markdown",
      "metadata": {},
      "source": [
        "The pattern is a bit difficult to see because there is so much data.\n",
        "\n",
        "If we focus in on the first 24 months of data, we can clearly see sequences of times where the residuals are almost all positive or almost all negative.\n",
        "\n",
        "-   The residuals appear to have non-negligible positive correlation."
      ],
      "id": "dcfe6ae2-3dbd-45af-90aa-e65b153737a8"
    },
    {
      "cell_type": "code",
      "execution_count": 32,
      "metadata": {},
      "outputs": [],
      "source": [
        "plot(residuals(lmod_air) ~ month, data = air,\n",
        "     ylab = \"residuals\", xlim = c(0, 24))\n",
        "abline(0, 0)"
      ],
      "id": "56e4898e-7682-4729-9e15-091874b79252"
    },
    {
      "cell_type": "markdown",
      "metadata": {},
      "source": [
        "**Successive residual pairs plot**\n",
        "\n",
        "------------------------------------------------------------------------\n",
        "\n",
        "A better way to assess whether there is strong temporal correlation in the residuals is to plot pairs of successive residuals versus each other, i.e., to plot $\\hat{\\epsilon}_{i+1}$ versus $\\hat{\\epsilon}_i$ for $i=1,2,\\ldots,n-1$.\n",
        "\n",
        "-   This is a scatter plot of the pairs $(\\hat{\\epsilon}_i, \\hat{\\epsilon}_{i+1})$ for $i=1,2,\\ldots,n-1$.\n",
        "-   If the successive residuals show a positive trend then there is positive temporal correlation in the residuals.\n",
        "-   If the successive residuals show a negative trend then there is negative temporal correlation in the residuals.\n",
        "    -   Negative correlation is very difficult to see visually when looking at a plot of the residuals over time because the pattern will look random.\n",
        "-   If the successive residuals appear to be a random scatter around 0 then there is no evidence of temporal correlation in the residuals.\n",
        "\n",
        "To construct a plot of successive residual pairs we can use the following code."
      ],
      "id": "7345e88a-d3dd-4e19-b398-4a1b5c060c73"
    },
    {
      "cell_type": "code",
      "execution_count": 33,
      "metadata": {},
      "outputs": [],
      "source": [
        "n <- nobs(lmod_air)\n",
        "ehat <- residuals(lmod_air)\n",
        "plot(ehat[2:n] ~ ehat[1:(n-1)],\n",
        "     xlab = expression(hat(epsilon)[i]),\n",
        "     ylab =expression(hat(epsilon)[i+1]))\n",
        "abline(h = 0 , v = 0, col = \"grey\")"
      ],
      "id": "fd2fdd81-2547-43ed-be99-ca4b7d697b4d"
    },
    {
      "cell_type": "markdown",
      "metadata": {},
      "source": [
        "`ehat[2:n]` extracts the last $n-1$ residuals while `ehat[1:(n-1)]` extracts the first $n-1$ residuals.\n",
        "\n",
        "The remaining code adds horizontal and vertical reference lines at $y=0$ and $x=0$, respectively.\n",
        "\n",
        "Since the successive residual pairs plot has a positive trend, there is clear evidence of positive temporal correlation among the residuals (and by proxy, the errors).\n",
        "\n",
        "If either of the previous plots do not provide a satisfactory conclusion, then we can use the Durbin-Watson to draw a definitive conclusion.\n",
        "\n",
        "**The Durbin-Watson test**\n",
        "\n",
        "------------------------------------------------------------------------\n",
        "\n",
        "A formal test for temporal correlation between residuals can be performed using the *Durbin-Watson test*.\n",
        "\n",
        "Let $\\rho$ denote the temporal correlation for “population of residuals”.\n",
        "\n",
        "-   Our observed residuals are treated as a random sample from that\n",
        "\n",
        "The null hypothesis of the Durbin-Watson test is\n",
        "\n",
        "$$\n",
        "H_0: \\text{The residuals are uncorrelated over time}, \\rho = 0.\n",
        "$$ The alternative hypothesis of the Durbin-Watson test is\n",
        "\n",
        "$$\n",
        "H_a: \\text{The residuals are correlated over time in some way}, (\\rho \\neq 0, \\rho > 0, \\text{ or }\\rho < 0).\n",
        "$$\n",
        "\n",
        "The test statistic for the Durbin-Watson test relies on comparing successive residuals and is given by the formula\n",
        "\n",
        "$$\n",
        "DW = \\frac{\\sum_{i=2}^n(\\hat{\\epsilon}_i - \\hat{\\epsilon}_{i-1})^2}{\\sum_{i=1}^n \\hat{\\epsilon}_i^2}.\n",
        "$$\n",
        "\n",
        "If we apply the Durbin-Watson test to our residuals and get a small p-value then it indicates that the residuals have a significant correlation across time.\n",
        "\n",
        "The `dwtest` function in the **lmtest** package can be used to apply the Durbin-Watson test to a fitted model.\n",
        "\n",
        "-   The first argument is a fitted `lm` object.\n",
        "-   The `alternative` argument can be changed to perform an upper-tailed test ($\\rho > 0$, `alternative = \"greater\"`), a two-tailed test ($\\rho \\neq 0$, `alternative = \"two.sided\"`), or lower-tailed test ($\\rho < 0$, `alternative = \"less\"`).\n",
        "\n",
        "We perform an upper-tailed Durbin-Watson test on the model we fit to the airline passengers data."
      ],
      "id": "f9d9734c-2096-4c82-b7e5-83de36de01e4"
    },
    {
      "cell_type": "code",
      "execution_count": 34,
      "metadata": {},
      "outputs": [],
      "source": [
        "dwtest(lmod_air, alternative = \"greater\")"
      ],
      "id": "445b0b15-f4b9-4347-8c8c-b75fdf92ae68"
    },
    {
      "cell_type": "markdown",
      "metadata": {},
      "source": [
        "The p-value for this test is close to 0, so we conclude that there is positive correlation among the residuals over time.\n",
        "\n",
        "# Summary of Methods for Checking Error Assumptions\n",
        "\n",
        "**Structural assumption**\n",
        "\n",
        "-   Plot of residuals versus fitted values.\n",
        "-   Plot of residuals versus each predictor.\n",
        "    -   For both plots, if this assumption is satisfied, the residuals should be symmetrically and randomly scattered around a horizontal line at $y=0$ as we move from left to right along the x-axis.\n",
        "    -   If the mean of the residuals appears to differ from zero as we move from left to right along the x-axis, then the structural assumption is violated.\n",
        "\n",
        "**Constant error variance assumption**\n",
        "\n",
        "-   Plot of standardized residuals versus fitted values.\n",
        "-   Plot of standardized residuals versus each predictor.\n",
        "    -   For both plots, if this assumption is satisfied, then the points should have constant thickness around a horizontal line at $y=0$ as we move from left to right along the x-axis.\n",
        "-   Plot of $\\sqrt{| \\hat{\\epsilon} |}$ versus fitted values.\n",
        "    -   Only use this check if the structural assumption appears to be satisfied.\n",
        "    -   If this assumption is satisfied, then the points of the plot should have constant thickness as we move from left to right along the x-axis.\n",
        "\n",
        "**Normal error assumption**\n",
        "\n",
        "-   Q-q plot of (standardized or studentized) residuals.\n",
        "    -   The points should follow approximately a straight line if the data are consistent normally-distributed errors.\n",
        "-   Shapiro-Wilk test.\n",
        "    -   If the p-value is large, then the residuals are consistent with a sample coming from a normal distribution.\n",
        "    -   If the p-value is small, then the residuals are not consistent with a sample from a normal distribution and the assumption of normal errors appears to be violated.\n",
        "\n",
        "**Uncorrelated errors**\n",
        "\n",
        "This only needs to be checked for time series/longitudinal data or geographically-referenced data.\n",
        "\n",
        "For assessing temporal autocorrelation:\n",
        "\n",
        "-   Plot of residuals versus time.\n",
        "    -   The plot should be a random scatter of points with no clear pattern if the residuals aren’t (positively) correlated over time..\n",
        "    -   If there are sequences where there are many positive residuals or many negative residuals, then this assumption is violated and the residuals exhibit positive temporal correlation.\n",
        "-   Plot of successive residuals pairs.\n",
        "    -   A positive trend indicates positive temporal correlation among our residuals.\n",
        "    -   A negative trend indicates negative temporal correlation among our residuals.\n",
        "    -   A random scatter indicates the residuals are consistent with being uncorrelated over time.\n",
        "-   Durbin-Watson test applied to the residuals.\n",
        "    -   A large p-value indicates the residuals are compatible with being uncorrelated over time.\n",
        "    -   A small p-value indicates the residuals are temporally correlated, with the type of correlation detected being associated with the alternative hypothesis used for the test.\n",
        "\n",
        "# References\n",
        "\n",
        "Box, G. E. P., Jenkins, G. M. and Reinsel, G. C. (1976). “Time Series Analysis, Forecasting and Control”. Third Edition. Holden-Day. Series G.\n",
        "\n",
        "Shapiro, S. S. and Wilk, M. B. (1965). “An analysis of variance test for normality (complete samples)”. Biometrika. 52(3–4): 591–611."
      ],
      "id": "4ae35afd-e102-4305-a387-df61727976e7"
    }
  ],
  "nbformat": 4,
  "nbformat_minor": 5,
  "metadata": {
    "kernelspec": {
      "name": "ir",
      "display_name": "R",
      "language": "R"
    },
    "language_info": {
      "name": "R",
      "codemirror_mode": "r",
      "file_extension": ".r",
      "mimetype": "text/x-r-source",
      "pygments_lexer": "r",
      "version": "4.2.2"
    }
  }
}